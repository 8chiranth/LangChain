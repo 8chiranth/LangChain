{
  "nbformat": 4,
  "nbformat_minor": 0,
  "metadata": {
    "colab": {
      "provenance": [],
      "gpuType": "V28"
    },
    "kernelspec": {
      "name": "python3",
      "display_name": "Python 3"
    },
    "language_info": {
      "name": "python"
    },
    "accelerator": "TPU"
  },
  "cells": [
    {
      "cell_type": "code",
      "execution_count": null,
      "metadata": {
        "id": "d2yOG-fC3g47"
      },
      "outputs": [],
      "source": [
        "import os\n",
        "os.environ[\"OPENAI_API_KEY\"] = \"sk-proj-oOk_HttAhCaYywgXnvol4KT3BlbkFJDU9Ym6K6XX9DausZXs6u5Ka9uloCloKkwdpi5rS8SuCdBFt_HWxyPR5sfXvp2I1Q0R0alskNkA\"\n"
      ]
    },
    {
      "cell_type": "code",
      "source": [
        "!pip install -q youtube-transcript-api langchain-community langchain-openai \\\n",
        "               faiss-cpu tiktoken python-dotenv"
      ],
      "metadata": {
        "id": "7zCctA4e32kQ"
      },
      "execution_count": null,
      "outputs": []
    },
    {
      "cell_type": "code",
      "source": [
        "from youtube_transcript_api import YouTubeTranscriptApi, TranscriptsDisabled\n",
        "from langchain.text_splitter import RecursiveCharacterTextSplitter\n",
        "from langchain_openai import OpenAIEmbeddings, ChatOpenAI\n",
        "from langchain_community.vectorstores import FAISS\n",
        "from langchain_core.prompts import PromptTemplate"
      ],
      "metadata": {
        "id": "NEPT1khq4ED3"
      },
      "execution_count": null,
      "outputs": []
    },
    {
      "cell_type": "markdown",
      "source": [
        "# Step 1a- Indexing(Document Ingestion)"
      ],
      "metadata": {
        "id": "qJb-fYbWDjLD"
      }
    },
    {
      "cell_type": "code",
      "source": [
        "from youtube_transcript_api import YouTubeTranscriptApi\n",
        "\n",
        "video_id = \"hEpBWippEZY\"\n",
        "\n",
        "try:\n",
        "    # create an instance\n",
        "    api = YouTubeTranscriptApi()\n",
        "\n",
        "    # list transcripts for this video\n",
        "    transcript_list = api.list(video_id)\n",
        "\n",
        "    # pick English transcript and fetch it\n",
        "    transcript = transcript_list.find_transcript([\"en\"]).fetch()\n",
        "\n",
        "    # convert to dictionary format\n",
        "    transcript = [\n",
        "        {\n",
        "            \"text\": chunk.text,\n",
        "            \"start_time\": chunk.start,\n",
        "            \"end_time\": chunk.start + chunk.duration\n",
        "        }\n",
        "        for chunk in transcript\n",
        "    ]\n",
        "\n",
        "    # print dictionary list\n",
        "    for entry in transcript:\n",
        "        print(entry)\n",
        "\n",
        "except Exception as e:\n",
        "    print(f\"Error: {e}\")\n"
      ],
      "metadata": {
        "colab": {
          "base_uri": "https://localhost:8080/"
        },
        "id": "Yy9uksDd4Q92",
        "outputId": "f4c4bb56-264f-488b-bbb8-7e16e76b19af"
      },
      "execution_count": null,
      "outputs": [
        {
          "output_type": "stream",
          "name": "stdout",
          "text": [
            "{'text': \"Are you somebody who's struggling to get\", 'start_time': 0.0, 'end_time': 3.2}\n",
            "{'text': 'back to studies after a long break? Or', 'start_time': 1.439, 'end_time': 4.720000000000001}\n",
            "{'text': \"you're somebody who was studying very\", 'start_time': 3.2, 'end_time': 6.640000000000001}\n",
            "{'text': \"well but somehow suddenly can't find the\", 'start_time': 4.72, 'end_time': 8.8}\n",
            "{'text': 'motivation to start studying back again.', 'start_time': 6.64, 'end_time': 10.48}\n",
            "{'text': 'You might be preparing for that one exam', 'start_time': 8.8, 'end_time': 12.16}\n",
            "{'text': 'which is really important or that one', 'start_time': 10.48, 'end_time': 14.08}\n",
            "{'text': \"test coming up next Sunday. Here's your\", 'start_time': 12.16, 'end_time': 16.32}\n",
            "{'text': 'complete guide on how to get out of a', 'start_time': 14.08, 'end_time': 18.72}\n",
            "{'text': 'study slump if you are in one and also', 'start_time': 16.32, 'end_time': 20.48}\n",
            "{'text': 'on how to increase your productivity', 'start_time': 18.72, 'end_time': 22.16}\n",
            "{'text': 'even if you are not feeling like', 'start_time': 20.48, 'end_time': 23.519000000000002}\n",
            "{'text': \"studying. Hello everyone, I'm Dr. Dr.\", 'start_time': 22.16, 'end_time': 25.359}\n",
            "{'text': 'Anush Pachel and I am a first year MD', 'start_time': 23.519, 'end_time': 27.358999999999998}\n",
            "{'text': 'medicine resident at GMC Nagpur and in', 'start_time': 25.359, 'end_time': 28.48}\n",
            "{'text': \"this video I'll be giving you a\", 'start_time': 27.359, 'end_time': 30.240000000000002}\n",
            "{'text': 'straightforward guide filled with 10', 'start_time': 28.48, 'end_time': 31.92}\n",
            "{'text': 'tips that you can apply to get out of a', 'start_time': 30.24, 'end_time': 33.519999999999996}\n",
            "{'text': 'study slump instantly. I have been an', 'start_time': 31.92, 'end_time': 35.36}\n",
            "{'text': \"MBBS student and now I'm an MD student\", 'start_time': 33.52, 'end_time': 37.28}\n",
            "{'text': \"and I've given hundreds of exam in my\", 'start_time': 35.36, 'end_time': 39.12}\n",
            "{'text': 'life and trust me I know the feeling of', 'start_time': 37.28, 'end_time': 40.879000000000005}\n",
            "{'text': 'that study slump. So without any further', 'start_time': 39.12, 'end_time': 43.839999999999996}\n",
            "{'text': \"ado let's start.\", 'start_time': 40.879, 'end_time': 45.76}\n",
            "{'text': 'Step one is identifying that if you are', 'start_time': 43.84, 'end_time': 47.440000000000005}\n",
            "{'text': 'actually in a study slump or not. You', 'start_time': 45.76, 'end_time': 48.879}\n",
            "{'text': 'know what is a study slump? Even though', 'start_time': 47.44, 'end_time': 50.399}\n",
            "{'text': 'you are trying to sit on the desk and', 'start_time': 48.879, 'end_time': 52.0}\n",
            "{'text': 'start to study, even though your book is', 'start_time': 50.399, 'end_time': 53.68}\n",
            "{'text': 'open but nothing is going inside your', 'start_time': 52.0, 'end_time': 54.96}\n",
            "{'text': \"brain, that's when you have a study\", 'start_time': 53.68, 'end_time': 56.64}\n",
            "{'text': 'slump. When you cannot focus your mind', 'start_time': 54.96, 'end_time': 58.399}\n",
            "{'text': 'for long periods of time which you are', 'start_time': 56.64, 'end_time': 60.480000000000004}\n",
            "{'text': 'earlier able to do without any', 'start_time': 58.399, 'end_time': 61.92}\n",
            "{'text': \"hesitation, that's when you have the\", 'start_time': 60.48, 'end_time': 63.358999999999995}\n",
            "{'text': \"issue. When you're too much into\", 'start_time': 61.92, 'end_time': 64.879}\n",
            "{'text': \"procrastination like I don't want to do\", 'start_time': 63.359, 'end_time': 67.68}\n",
            "{'text': \"this, I'll do it the next day or so on.\", 'start_time': 64.879, 'end_time': 69.52000000000001}\n",
            "{'text': \"That's when you have an issue. And most\", 'start_time': 67.68, 'end_time': 70.72000000000001}\n",
            "{'text': 'importantly, when you look at the', 'start_time': 69.52, 'end_time': 72.479}\n",
            "{'text': 'syllabus and you feel so overwhelmed', 'start_time': 70.72, 'end_time': 74.15899999999999}\n",
            "{'text': \"that you don't want to touch these books\", 'start_time': 72.479, 'end_time': 75.84}\n",
            "{'text': \"in the first place, that's when you know\", 'start_time': 74.159, 'end_time': 77.36}\n",
            "{'text': 'that you have lost the motivation to', 'start_time': 75.84, 'end_time': 79.04}\n",
            "{'text': 'study. So these are the few signs. If', 'start_time': 77.36, 'end_time': 80.32}\n",
            "{'text': 'you have any of these then make sure', 'start_time': 79.04, 'end_time': 82.32000000000001}\n",
            "{'text': 'that you follow this video carefully. So', 'start_time': 80.32, 'end_time': 83.91999999999999}\n",
            "{'text': 'the immediate next step that you can do', 'start_time': 82.32, 'end_time': 85.27999999999999}\n",
            "{'text': 'in your life is to change the', 'start_time': 83.92, 'end_time': 86.799}\n",
            "{'text': 'environment in which you are studying.', 'start_time': 85.28, 'end_time': 88.4}\n",
            "{'text': 'What I used to do is that I used to feel', 'start_time': 86.799, 'end_time': 90.08000000000001}\n",
            "{'text': \"a study's lump whenever I was sitting in\", 'start_time': 88.4, 'end_time': 92.0}\n",
            "{'text': 'my room for long periods of time like', 'start_time': 90.08, 'end_time': 93.84}\n",
            "{'text': 'months at a stretch. And I used to lose', 'start_time': 92.0, 'end_time': 96.0}\n",
            "{'text': 'all the motivation to study. But once I', 'start_time': 93.84, 'end_time': 97.759}\n",
            "{'text': \"joined the library that's when you find\", 'start_time': 96.0, 'end_time': 99.84}\n",
            "{'text': 'a real motivation to start studying back', 'start_time': 97.759, 'end_time': 101.84}\n",
            "{'text': 'again. This was a serious case I had and', 'start_time': 99.84, 'end_time': 103.43900000000001}\n",
            "{'text': 'finally I remember where I just would', 'start_time': 101.84, 'end_time': 105.119}\n",
            "{'text': 'not study if I was in my room. So I had', 'start_time': 103.439, 'end_time': 106.88}\n",
            "{'text': 'to sit in the library for an entirety of', 'start_time': 105.119, 'end_time': 109.28}\n",
            "{'text': 'days in order to study well. So first', 'start_time': 106.88, 'end_time': 110.72}\n",
            "{'text': 'step is changing the place of your', 'start_time': 109.28, 'end_time': 112.07900000000001}\n",
            "{'text': \"study. If you're not too attached with\", 'start_time': 110.72, 'end_time': 113.67999999999999}\n",
            "{'text': \"the space of study, that is if you don't\", 'start_time': 112.079, 'end_time': 115.119}\n",
            "{'text': 'have all the notes around all the books', 'start_time': 113.68, 'end_time': 116.64}\n",
            "{'text': 'and you can easily change your place, go', 'start_time': 115.119, 'end_time': 118.719}\n",
            "{'text': 'do that for at least a few days or a few', 'start_time': 116.64, 'end_time': 120.159}\n",
            "{'text': \"weeks and you'll see a noticeable\", 'start_time': 118.719, 'end_time': 122.079}\n",
            "{'text': 'improvement in your performance. What', 'start_time': 120.159, 'end_time': 123.68}\n",
            "{'text': 'you can also try to do is you can go to', 'start_time': 122.079, 'end_time': 125.91999999999999}\n",
            "{'text': 'a new cafe and try to study in a cafe. I', 'start_time': 123.68, 'end_time': 127.43900000000001}\n",
            "{'text': 'also did that during my nepg', 'start_time': 125.92, 'end_time': 128.879}\n",
            "{'text': 'preparation. Studying in a cafe was', 'start_time': 127.439, 'end_time': 130.959}\n",
            "{'text': 'really really fun for a few days. It', 'start_time': 128.879, 'end_time': 132.39999999999998}\n",
            "{'text': 'really helped me get back on my track', 'start_time': 130.959, 'end_time': 134.16}\n",
            "{'text': 'because it was just not possible for me', 'start_time': 132.4, 'end_time': 135.92000000000002}\n",
            "{'text': 'to study in my own room. You know, fun', 'start_time': 134.16, 'end_time': 137.68}\n",
            "{'text': 'story, when I was making videos from the', 'start_time': 135.92, 'end_time': 139.599}\n",
            "{'text': 'same room that I was studying in, I lost', 'start_time': 137.68, 'end_time': 141.36}\n",
            "{'text': 'motivation to make videos and to study', 'start_time': 139.599, 'end_time': 142.56}\n",
            "{'text': 'at the same time. So, I had to', 'start_time': 141.36, 'end_time': 144.31900000000002}\n",
            "{'text': 'physically separate the studio room from', 'start_time': 142.56, 'end_time': 146.4}\n",
            "{'text': 'my own room so that I could get back my', 'start_time': 144.319, 'end_time': 148.07999999999998}\n",
            "{'text': 'studying and my recordings at the same', 'start_time': 146.4, 'end_time': 149.92000000000002}\n",
            "{'text': 'time. Changing a study location does not', 'start_time': 148.08, 'end_time': 151.59900000000002}\n",
            "{'text': 'necessarily mean just going out to the', 'start_time': 149.92, 'end_time': 153.35999999999999}\n",
            "{'text': 'library or whatever. You can also try a', 'start_time': 151.599, 'end_time': 155.28}\n",
            "{'text': 'different desk setup. You can also go', 'start_time': 153.36, 'end_time': 157.04000000000002}\n",
            "{'text': 'try study on the bed if you are always', 'start_time': 155.28, 'end_time': 158.56}\n",
            "{'text': 'studying on the table and vice versa.', 'start_time': 157.04, 'end_time': 160.4}\n",
            "{'text': 'These small changes actually get you a', 'start_time': 158.56, 'end_time': 162.08}\n",
            "{'text': 'lot of motivation to study back. The', 'start_time': 160.4, 'end_time': 163.76000000000002}\n",
            "{'text': 'next thing that you can do is start to', 'start_time': 162.08, 'end_time': 166.31900000000002}\n",
            "{'text': 'set small specific achievable goals. Now', 'start_time': 163.76, 'end_time': 168.07999999999998}\n",
            "{'text': 'whenever you feel like a topic is too', 'start_time': 166.319, 'end_time': 170.0}\n",
            "{'text': 'big like for example a big subject like', 'start_time': 168.08, 'end_time': 171.59900000000002}\n",
            "{'text': 'pathology or pharmacology in second year', 'start_time': 170.0, 'end_time': 173.76}\n",
            "{'text': \"of MBBS you'll see that subject you'll\", 'start_time': 171.599, 'end_time': 176.0}\n",
            "{'text': 'be like oh my god how is it that I ever', 'start_time': 173.76, 'end_time': 177.92}\n",
            "{'text': 'going to study this subject. So it', 'start_time': 176.0, 'end_time': 179.84}\n",
            "{'text': 'happens very commonly and the most', 'start_time': 177.92, 'end_time': 181.28}\n",
            "{'text': 'important solution is that just set', 'start_time': 179.84, 'end_time': 183.519}\n",
            "{'text': 'small specific goals like for example in', 'start_time': 181.28, 'end_time': 185.599}\n",
            "{'text': 'pathology in general pathology in first', 'start_time': 183.519, 'end_time': 187.20000000000002}\n",
            "{'text': 'chapter I will read maybe like', 'start_time': 185.599, 'end_time': 188.959}\n",
            "{'text': \"inflammation today I'll maybe read\", 'start_time': 187.2, 'end_time': 190.64}\n",
            "{'text': \"healing today I'll maybe read part of\", 'start_time': 188.959, 'end_time': 192.239}\n",
            "{'text': \"neoplasia today I'll just read about the\", 'start_time': 190.64, 'end_time': 194.159}\n",
            "{'text': 'tumor suppressor genes so all of these', 'start_time': 192.239, 'end_time': 196.0}\n",
            "{'text': 'are very small specific achievable', 'start_time': 194.159, 'end_time': 197.76}\n",
            "{'text': \"targets if you're 11th class 12th class\", 'start_time': 196.0, 'end_time': 199.2}\n",
            "{'text': 'student then you can set up something', 'start_time': 197.76, 'end_time': 200.79999999999998}\n",
            "{'text': \"like okay I'm just going to read about\", 'start_time': 199.2, 'end_time': 202.879}\n",
            "{'text': 'this particular film or this particular', 'start_time': 200.8, 'end_time': 204.48000000000002}\n",
            "{'text': 'kingdom in one particular day so', 'start_time': 202.879, 'end_time': 205.84}\n",
            "{'text': 'especially if you have a lot of time at', 'start_time': 204.48, 'end_time': 207.51899999999998}\n",
            "{'text': 'your hands which you can have since the', 'start_time': 205.84, 'end_time': 209.599}\n",
            "{'text': 'exams can be far away you have to set', 'start_time': 207.519, 'end_time': 211.28}\n",
            "{'text': \"small goals which you've achieved every\", 'start_time': 209.599, 'end_time': 212.959}\n",
            "{'text': 'single day now even though your victory', 'start_time': 211.28, 'end_time': 215.2}\n",
            "{'text': 'might seem very far trust me as you keep', 'start_time': 212.959, 'end_time': 216.64000000000001}\n",
            "{'text': 'on studying every day that victory will', 'start_time': 215.2, 'end_time': 218.72}\n",
            "{'text': 'get closer and closer whereas if you', 'start_time': 216.64, 'end_time': 219.92}\n",
            "{'text': \"just look at the syllabus and you're\", 'start_time': 218.72, 'end_time': 221.68}\n",
            "{'text': 'like I cannot study this and you never', 'start_time': 219.92, 'end_time': 223.44}\n",
            "{'text': \"start studying that's when you lose the\", 'start_time': 221.68, 'end_time': 225.04000000000002}\n",
            "{'text': 'battle before you have entered the war', 'start_time': 223.44, 'end_time': 227.28}\n",
            "{'text': \"so don't do that win small small battles\", 'start_time': 225.04, 'end_time': 228.879}\n",
            "{'text': 'every day so that one day you can', 'start_time': 227.28, 'end_time': 230.72}\n",
            "{'text': 'compete in the war and win that one as', 'start_time': 228.879, 'end_time': 233.44}\n",
            "{'text': 'well so set small specific achievable', 'start_time': 230.72, 'end_time': 235.68}\n",
            "{'text': 'goals very important achievable key if', 'start_time': 233.44, 'end_time': 237.04}\n",
            "{'text': \"you're not achieving then you'll how to\", 'start_time': 235.68, 'end_time': 238.72}\n",
            "{'text': 'have that motivation to study further.', 'start_time': 237.04, 'end_time': 240.239}\n",
            "{'text': 'Next step which you can do for achieving', 'start_time': 238.72, 'end_time': 242.159}\n",
            "{'text': 'your goals is to set up a pomodoro', 'start_time': 240.239, 'end_time': 243.59900000000002}\n",
            "{'text': 'timer. Now this is a technique which', 'start_time': 242.159, 'end_time': 245.12}\n",
            "{'text': \"I've been talking about for years.\", 'start_time': 243.599, 'end_time': 247.439}\n",
            "{'text': 'Simple idea is that for 30 minutes for', 'start_time': 245.12, 'end_time': 248.959}\n",
            "{'text': '45 minutes you are going to be', 'start_time': 247.439, 'end_time': 251.68}\n",
            "{'text': 'hyperfocusing your brain that means when', 'start_time': 248.959, 'end_time': 253.84}\n",
            "{'text': 'that timer is on when you have that', 'start_time': 251.68, 'end_time': 255.68}\n",
            "{'text': 'alarm clock ticking when you have a', 'start_time': 253.84, 'end_time': 257.919}\n",
            "{'text': 'timer in front of you will be in a', 'start_time': 255.68, 'end_time': 259.919}\n",
            "{'text': 'hyperfocus zone. You will not look at', 'start_time': 257.919, 'end_time': 261.519}\n",
            "{'text': 'your mobile you will not think other', 'start_time': 259.919, 'end_time': 263.19899999999996}\n",
            "{'text': 'thoughts. It will be the same as when', 'start_time': 261.519, 'end_time': 264.88}\n",
            "{'text': 'you are going for an exam. In your exam', 'start_time': 263.199, 'end_time': 266.32}\n",
            "{'text': \"hall you don't get any other thoughts.\", 'start_time': 264.88, 'end_time': 267.84}\n",
            "{'text': 'you even though the examiner is talking', 'start_time': 266.32, 'end_time': 269.759}\n",
            "{'text': \"outside you don't look at the examiner\", 'start_time': 267.84, 'end_time': 271.44}\n",
            "{'text': \"you don't listen to the examiner you are\", 'start_time': 269.759, 'end_time': 273.759}\n",
            "{'text': 'just focused on your task at hand I want', 'start_time': 271.44, 'end_time': 275.84}\n",
            "{'text': 'you to have that kind of focus but with', 'start_time': 273.759, 'end_time': 277.91900000000004}\n",
            "{'text': 'the pomodoro timer what this will do is', 'start_time': 275.84, 'end_time': 279.67999999999995}\n",
            "{'text': 'that you will slowly and slowly train', 'start_time': 277.919, 'end_time': 281.84}\n",
            "{'text': 'your mind okay 30 minutes then next week', 'start_time': 279.68, 'end_time': 284.0}\n",
            "{'text': '35 minutes next week 45 minutes so', 'start_time': 281.84, 'end_time': 285.919}\n",
            "{'text': 'within just one or two weeks you can', 'start_time': 284.0, 'end_time': 288.16}\n",
            "{'text': 'take your focus time to more than 50', 'start_time': 285.919, 'end_time': 290.4}\n",
            "{'text': 'minutes more than 1 hour so for that 1', 'start_time': 288.16, 'end_time': 292.0}\n",
            "{'text': 'hour you know that you are doing a work', 'start_time': 290.4, 'end_time': 293.75899999999996}\n",
            "{'text': 'of four hours that most people get done', 'start_time': 292.0, 'end_time': 295.199}\n",
            "{'text': 'in four hours because you are so', 'start_time': 293.759, 'end_time': 297.68}\n",
            "{'text': 'hyperfocused So always set up a promoter', 'start_time': 295.199, 'end_time': 299.759}\n",
            "{'text': 'timer. I always say this ever since my', 'start_time': 297.68, 'end_time': 301.36}\n",
            "{'text': 'second and first year of MBBS. I have', 'start_time': 299.759, 'end_time': 302.72}\n",
            "{'text': 'been setting up timers and you can see', 'start_time': 301.36, 'end_time': 304.32}\n",
            "{'text': 'it in my study with me videos of that', 'start_time': 302.72, 'end_time': 306.40000000000003}\n",
            "{'text': 'time. That timer single-handedly', 'start_time': 304.32, 'end_time': 308.4}\n",
            "{'text': \"increased my brain's capacity to focus\", 'start_time': 306.4, 'end_time': 310.79999999999995}\n",
            "{'text': 'for more than 3 to 4 hours at a time.', 'start_time': 308.4, 'end_time': 312.63899999999995}\n",
            "{'text': \"And that's what led me to cracking both\", 'start_time': 310.8, 'end_time': 314.88}\n",
            "{'text': 'my NEG as well as my NEPG exam in my', 'start_time': 312.639, 'end_time': 316.479}\n",
            "{'text': 'very first attempt. So please use the', 'start_time': 314.88, 'end_time': 318.4}\n",
            "{'text': \"promoter timer. There's this website.\", 'start_time': 316.479, 'end_time': 320.88}\n",
            "{'text': \"It's free. It's big timer.net\", 'start_time': 318.4, 'end_time': 323.19899999999996}\n",
            "{'text': \"timer. It's free. You can just um start\", 'start_time': 320.88, 'end_time': 325.12}\n",
            "{'text': 'studying with that timer. Next step is', 'start_time': 323.199, 'end_time': 327.52000000000004}\n",
            "{'text': 'defining what are your peak hours. Now', 'start_time': 325.12, 'end_time': 329.52}\n",
            "{'text': \"in every single person's life, you are\", 'start_time': 327.52, 'end_time': 330.96}\n",
            "{'text': \"either a morning person or you're a\", 'start_time': 329.52, 'end_time': 332.4}\n",
            "{'text': \"night person. If you're a resident like\", 'start_time': 330.96, 'end_time': 334.15999999999997}\n",
            "{'text': 'me, then you are neither because you are', 'start_time': 332.4, 'end_time': 336.79999999999995}\n",
            "{'text': 'both at the same time. So uh you are', 'start_time': 334.16, 'end_time': 338.08000000000004}\n",
            "{'text': 'either a morning person or a night', 'start_time': 336.8, 'end_time': 339.52000000000004}\n",
            "{'text': 'person. That basically means you are', 'start_time': 338.08, 'end_time': 341.52}\n",
            "{'text': 'either more studious in the morning or', 'start_time': 339.52, 'end_time': 343.59999999999997}\n",
            "{'text': 'in the night. Now my general conclusion,', 'start_time': 341.52, 'end_time': 345.44}\n",
            "{'text': 'my general ideology for most of the', 'start_time': 343.6, 'end_time': 346.96000000000004}\n",
            "{'text': 'people is that even though that you', 'start_time': 345.44, 'end_time': 348.88}\n",
            "{'text': \"think that you are a night person, it's\", 'start_time': 346.96, 'end_time': 350.96}\n",
            "{'text': 'not like that. If you try to wake up for', 'start_time': 348.88, 'end_time': 353.039}\n",
            "{'text': 'a few mornings, maybe just 1 hour before', 'start_time': 350.96, 'end_time': 354.4}\n",
            "{'text': 'your normal time, you will see that', 'start_time': 353.039, 'end_time': 355.919}\n",
            "{'text': \"mornings are so productive. Now I'll\", 'start_time': 354.4, 'end_time': 357.59999999999997}\n",
            "{'text': 'tell you the reason for this. See, in', 'start_time': 355.919, 'end_time': 358.79999999999995}\n",
            "{'text': \"the morning when you wake up, you're\", 'start_time': 357.6, 'end_time': 360.639}\n",
            "{'text': \"full of energy because you've just woken\", 'start_time': 358.8, 'end_time': 362.08}\n",
            "{'text': 'up from your sleep. You have got all', 'start_time': 360.639, 'end_time': 363.759}\n",
            "{'text': 'your rest. Your brain is fully active.', 'start_time': 362.08, 'end_time': 366.31899999999996}\n",
            "{'text': 'Now you you have a huge energy store.', 'start_time': 363.759, 'end_time': 368.16}\n",
            "{'text': 'Now, as the day progresses, there are', 'start_time': 366.319, 'end_time': 369.759}\n",
            "{'text': 'certain activities that you do that take', 'start_time': 368.16, 'end_time': 373.16}\n",
            "{'text': 'away your energy.', 'start_time': 369.759, 'end_time': 373.16}\n",
            "{'text': 'So what our idea is that in our evening', 'start_time': 374.319, 'end_time': 378.56}\n",
            "{'text': 'our energy stores are low. So whatever', 'start_time': 376.4, 'end_time': 380.31899999999996}\n",
            "{'text': 'things we are studying with a low energy', 'start_time': 378.56, 'end_time': 381.759}\n",
            "{'text': \"reserve, they're not going to be going\", 'start_time': 380.319, 'end_time': 383.44}\n",
            "{'text': \"in your brain that easily because it's\", 'start_time': 381.759, 'end_time': 385.039}\n",
            "{'text': \"low on energy. It's it's taking more\", 'start_time': 383.44, 'end_time': 387.36}\n",
            "{'text': 'energy um to learn new information to', 'start_time': 385.039, 'end_time': 389.36}\n",
            "{'text': 'focus. Right? So in the morning when you', 'start_time': 387.36, 'end_time': 391.12}\n",
            "{'text': 'have a lot of energy, I want you all to', 'start_time': 389.36, 'end_time': 393.12}\n",
            "{'text': 'put that energy into studies and do it', 'start_time': 391.12, 'end_time': 394.8}\n",
            "{'text': 'without any friction. That means just', 'start_time': 393.12, 'end_time': 396.479}\n",
            "{'text': 'wake up and go to uh sit down on your', 'start_time': 394.8, 'end_time': 398.24}\n",
            "{'text': \"desk. There's no need to brush your\", 'start_time': 396.479, 'end_time': 399.68}\n",
            "{'text': 'teeth as well. Just go and sit down', 'start_time': 398.24, 'end_time': 400.96000000000004}\n",
            "{'text': 'after one or two hours you can brush', 'start_time': 399.68, 'end_time': 402.639}\n",
            "{'text': 'your teeth. Okay? As a doctor, I tell', 'start_time': 400.96, 'end_time': 404.63899999999995}\n",
            "{'text': \"you it's okay to not brush your teeth on\", 'start_time': 402.639, 'end_time': 407.68}\n",
            "{'text': 'time. So', 'start_time': 404.639, 'end_time': 409.36}\n",
            "{'text': 'if you wake up at 4, go brush your', 'start_time': 407.68, 'end_time': 410.56}\n",
            "{'text': \"teeth. That's all it's going to be okay.\", 'start_time': 409.36, 'end_time': 412.08000000000004}\n",
            "{'text': \"So that's the thing. Reduce the friction\", 'start_time': 410.56, 'end_time': 413.84}\n",
            "{'text': 'between your bed to your desk or your to', 'start_time': 412.08, 'end_time': 415.59999999999997}\n",
            "{'text': \"your study space. And that's when you'll\", 'start_time': 413.84, 'end_time': 417.44}\n",
            "{'text': 'see that mornings can be really good', 'start_time': 415.6, 'end_time': 419.44}\n",
            "{'text': 'too. But if you truly are a night person', 'start_time': 417.44, 'end_time': 420.96}\n",
            "{'text': 'where you get most of the studies done', 'start_time': 419.44, 'end_time': 423.12}\n",
            "{'text': \"late night, that's when you know that at\", 'start_time': 420.96, 'end_time': 424.88}\n",
            "{'text': 'this particular time you should have no', 'start_time': 423.12, 'end_time': 426.08}\n",
            "{'text': 'distractions. You should not be talking', 'start_time': 424.88, 'end_time': 427.44}\n",
            "{'text': 'to friends. You should not be talking to', 'start_time': 426.08, 'end_time': 428.71999999999997}\n",
            "{'text': 'your girlfriend. You should not be', 'start_time': 427.44, 'end_time': 430.56}\n",
            "{'text': 'talking to anybody. And at that point', 'start_time': 428.72, 'end_time': 432.96000000000004}\n",
            "{'text': 'whatever your beautiful time is, you', 'start_time': 430.56, 'end_time': 434.479}\n",
            "{'text': 'should be focused for your studies. In', 'start_time': 432.96, 'end_time': 435.68}\n",
            "{'text': \"the morning, everybody's sleeping\", 'start_time': 434.479, 'end_time': 437.28}\n",
            "{'text': \"anyway. So, you don't have anybody to\", 'start_time': 435.68, 'end_time': 439.12}\n",
            "{'text': 'talk to or watch any TV or watch any', 'start_time': 437.28, 'end_time': 440.96}\n",
            "{'text': 'Netflix or whatever any show at your', 'start_time': 439.12, 'end_time': 442.319}\n",
            "{'text': 'home because everybody else is also', 'start_time': 440.96, 'end_time': 444.31899999999996}\n",
            "{'text': 'sleeping. So, find out what kind of', 'start_time': 442.319, 'end_time': 446.47900000000004}\n",
            "{'text': 'person you are and always focus on that', 'start_time': 444.319, 'end_time': 448.319}\n",
            "{'text': 'particular self. The next thing is very', 'start_time': 446.479, 'end_time': 449.75899999999996}\n",
            "{'text': \"important especially if you're a student\", 'start_time': 448.319, 'end_time': 451.52000000000004}\n",
            "{'text': 'and that is staying physically active.', 'start_time': 449.759, 'end_time': 453.36}\n",
            "{'text': \"I'm not asking you to join a gym even\", 'start_time': 451.52, 'end_time': 454.79999999999995}\n",
            "{'text': \"though if you do it's a very wonderful\", 'start_time': 453.36, 'end_time': 456.08000000000004}\n",
            "{'text': \"decision. You're never going to regret\", 'start_time': 454.8, 'end_time': 457.759}\n",
            "{'text': 'joining a gym. But the thing is stay', 'start_time': 456.08, 'end_time': 459.44}\n",
            "{'text': 'physically active. That means it can', 'start_time': 457.759, 'end_time': 461.36}\n",
            "{'text': \"happen that there are it's been 2 3 days\", 'start_time': 459.44, 'end_time': 462.56}\n",
            "{'text': 'and you are still in your room. You have', 'start_time': 461.36, 'end_time': 464.319}\n",
            "{'text': \"not gone out. You're continuously\", 'start_time': 462.56, 'end_time': 465.44}\n",
            "{'text': 'studying inside your room. You are', 'start_time': 464.319, 'end_time': 466.639}\n",
            "{'text': \"either on your phone, you're either on\", 'start_time': 465.44, 'end_time': 468.319}\n",
            "{'text': 'your bed or you are either on the desk.', 'start_time': 466.639, 'end_time': 470.08}\n",
            "{'text': \"You don't get any sunlight in. You don't\", 'start_time': 468.319, 'end_time': 471.759}\n",
            "{'text': 'get any fresh air in your system. You', 'start_time': 470.08, 'end_time': 473.35999999999996}\n",
            "{'text': \"don't have any walk that you are doing.\", 'start_time': 471.759, 'end_time': 474.879}\n",
            "{'text': 'So your muscles and ligaments, tendons,', 'start_time': 473.36, 'end_time': 476.47900000000004}\n",
            "{'text': 'joints, nothing is moving. You know that', 'start_time': 474.879, 'end_time': 478.879}\n",
            "{'text': 'creates a very bad impact on your health', 'start_time': 476.479, 'end_time': 480.87899999999996}\n",
            "{'text': \"as well as on your life. If you're very\", 'start_time': 478.879, 'end_time': 482.8}\n",
            "{'text': 'very stagnant on a place, your life will', 'start_time': 480.879, 'end_time': 484.24}\n",
            "{'text': 'also become stagnant. You need to be', 'start_time': 482.8, 'end_time': 486.56}\n",
            "{'text': 'active both physically, mentally and', 'start_time': 484.24, 'end_time': 488.72}\n",
            "{'text': 'overall spiritually as well. So whenever', 'start_time': 486.56, 'end_time': 491.599}\n",
            "{'text': \"you feel like yeah I've been like 2\", 'start_time': 488.72, 'end_time': 493.68}\n",
            "{'text': \"three days I've been not able to study\", 'start_time': 491.599, 'end_time': 495.199}\n",
            "{'text': 'well I all I have been doing is', 'start_time': 493.68, 'end_time': 497.039}\n",
            "{'text': 'scrolling my mobile phone just stop', 'start_time': 495.199, 'end_time': 499.199}\n",
            "{'text': 'everything keep your phone aside just go', 'start_time': 497.039, 'end_time': 502.15999999999997}\n",
            "{'text': 'out for a walk 1 hour you just walk walk', 'start_time': 499.199, 'end_time': 504.08000000000004}\n",
            "{'text': 'to your neighborhood look at the dogs', 'start_time': 502.16, 'end_time': 505.68}\n",
            "{'text': 'who are playing look at the cats who are', 'start_time': 504.08, 'end_time': 507.28}\n",
            "{'text': 'playing look at the kids who are playing', 'start_time': 505.68, 'end_time': 510.24}\n",
            "{'text': 'badminton you can play a few shorts and', 'start_time': 507.28, 'end_time': 512.399}\n",
            "{'text': 'you can play cricket whatever it is just', 'start_time': 510.24, 'end_time': 514.5600000000001}\n",
            "{'text': 'be physically active every day try to be', 'start_time': 512.399, 'end_time': 517.039}\n",
            "{'text': 'physically active just walking when you', 'start_time': 514.56, 'end_time': 518.159}\n",
            "{'text': 'when you feel like walking Walking is', 'start_time': 517.039, 'end_time': 519.4399999999999}\n",
            "{'text': 'not your thing, just take your phone and', 'start_time': 518.159, 'end_time': 521.12}\n",
            "{'text': 'call your best friend. You can walk 10,', 'start_time': 519.44, 'end_time': 523.599}\n",
            "{'text': '15, 30 minutes with them on call. So', 'start_time': 521.12, 'end_time': 524.9590000000001}\n",
            "{'text': \"that's the thing guys, please stay\", 'start_time': 523.599, 'end_time': 526.72}\n",
            "{'text': 'physically active. Whatever exam that', 'start_time': 524.959, 'end_time': 527.92}\n",
            "{'text': \"you're preparing for, it will become\", 'start_time': 526.72, 'end_time': 529.6800000000001}\n",
            "{'text': 'that much easier. I always recommend the', 'start_time': 527.92, 'end_time': 531.12}\n",
            "{'text': 'students to join a gym. Even in my', 'start_time': 529.68, 'end_time': 532.88}\n",
            "{'text': \"blueprint program, I've recommended go\", 'start_time': 531.12, 'end_time': 534.48}\n",
            "{'text': 'join a gym. That will keep you', 'start_time': 532.88, 'end_time': 536.24}\n",
            "{'text': 'physically active and you know the way', 'start_time': 534.48, 'end_time': 538.48}\n",
            "{'text': 'that you mind muscle connection, all of', 'start_time': 536.24, 'end_time': 540.9590000000001}\n",
            "{'text': 'that that actually boosts the endorphins', 'start_time': 538.48, 'end_time': 542.48}\n",
            "{'text': 'in your body that keep you generally', 'start_time': 540.959, 'end_time': 544.399}\n",
            "{'text': \"happy and much more focused. And that's\", 'start_time': 542.48, 'end_time': 545.9200000000001}\n",
            "{'text': \"one hour of activity that you're doing\", 'start_time': 544.399, 'end_time': 547.68}\n",
            "{'text': \"completely without your phone. So that's\", 'start_time': 545.92, 'end_time': 549.4399999999999}\n",
            "{'text': 'always a good thing that will also help', 'start_time': 547.68, 'end_time': 551.68}\n",
            "{'text': 'you curb your phone addiction. So yeah,', 'start_time': 549.44, 'end_time': 553.44}\n",
            "{'text': 'that was the very essential point for', 'start_time': 551.68, 'end_time': 554.64}\n",
            "{'text': 'all the students who are watching this', 'start_time': 553.44, 'end_time': 557.0400000000001}\n",
            "{'text': 'video. Please stay physically active in', 'start_time': 554.64, 'end_time': 558.8}\n",
            "{'text': 'whatever field that you are in. The next', 'start_time': 557.04, 'end_time': 561.279}\n",
            "{'text': 'step is that think about why did you', 'start_time': 558.8, 'end_time': 562.64}\n",
            "{'text': 'actually start? Why did you start', 'start_time': 561.279, 'end_time': 564.32}\n",
            "{'text': 'studying for this exam? Why did you want', 'start_time': 562.64, 'end_time': 565.76}\n",
            "{'text': 'to become a doctor? Why did you want to', 'start_time': 564.32, 'end_time': 567.36}\n",
            "{'text': 'become an engineer? Why did you start', 'start_time': 565.76, 'end_time': 569.6}\n",
            "{'text': 'studying? And remind yourself of the', 'start_time': 567.36, 'end_time': 571.2}\n",
            "{'text': 'reasons that you started in the first', 'start_time': 569.6, 'end_time': 572.9590000000001}\n",
            "{'text': \"place. Maybe sometimes it's a motivation\", 'start_time': 571.2, 'end_time': 574.6400000000001}\n",
            "{'text': 'issue, right? That you are not able to', 'start_time': 572.959, 'end_time': 576.0799999999999}\n",
            "{'text': 'motivate yourself to get down to the', 'start_time': 574.64, 'end_time': 578.72}\n",
            "{'text': 'desk. Just remind yourself why did you', 'start_time': 576.08, 'end_time': 581.2}\n",
            "{'text': 'start? So for me cracking my knee', 'start_time': 578.72, 'end_time': 582.88}\n",
            "{'text': \"usually I'll tell you my story. My\", 'start_time': 581.2, 'end_time': 585.2}\n",
            "{'text': 'biggest motivation was not taking a', 'start_time': 582.88, 'end_time': 587.2}\n",
            "{'text': \"drop. Yes, I know it's a very bad thing\", 'start_time': 585.2, 'end_time': 589.44}\n",
            "{'text': 'to say that the biggest motivation for', 'start_time': 587.2, 'end_time': 591.0400000000001}\n",
            "{'text': 'me was something very negative like', 'start_time': 589.44, 'end_time': 593.519}\n",
            "{'text': 'taking a drop. So that was my motivation', 'start_time': 591.04, 'end_time': 596.3199999999999}\n",
            "{'text': 'and no matter what I will crack my neogi', 'start_time': 593.519, 'end_time': 598.16}\n",
            "{'text': \"in my first attempt I don't have any\", 'start_time': 596.32, 'end_time': 600.72}\n",
            "{'text': 'other chance. That was only one plan and', 'start_time': 598.16, 'end_time': 602.7199999999999}\n",
            "{'text': \"if I don't succeed in that my life is\", 'start_time': 600.72, 'end_time': 605.36}\n",
            "{'text': 'wasted. That is how I had made up my', 'start_time': 602.72, 'end_time': 608.08}\n",
            "{'text': 'mind and I always whenever I felt like I', 'start_time': 605.36, 'end_time': 609.44}\n",
            "{'text': \"don't want to study I just kept on\", 'start_time': 608.08, 'end_time': 612.08}\n",
            "{'text': 'reminding myself this how much efforts I', 'start_time': 609.44, 'end_time': 614.0}\n",
            "{'text': 'have taken to start studying in the', 'start_time': 612.08, 'end_time': 615.6800000000001}\n",
            "{'text': 'first place and I cannot let this go. So', 'start_time': 614.0, 'end_time': 617.6}\n",
            "{'text': \"my main goal was to I'll never take a\", 'start_time': 615.68, 'end_time': 619.4399999999999}\n",
            "{'text': \"drop and that's the way I studied\", 'start_time': 617.6, 'end_time': 621.2}\n",
            "{'text': 'consistently. I reminded myself yeah if', 'start_time': 619.44, 'end_time': 622.72}\n",
            "{'text': \"I don't study I have to take a drop. So\", 'start_time': 621.2, 'end_time': 624.24}\n",
            "{'text': \"I reminded myself of why I'm actually\", 'start_time': 622.72, 'end_time': 625.9200000000001}\n",
            "{'text': 'studying. Okay I want to become a doctor', 'start_time': 624.24, 'end_time': 627.519}\n",
            "{'text': \"that's always secondary but that was my\", 'start_time': 625.92, 'end_time': 629.5999999999999}\n",
            "{'text': 'main motivation in my need PG. My', 'start_time': 627.519, 'end_time': 631.6}\n",
            "{'text': 'motivation was I need to get a rank so', 'start_time': 629.6, 'end_time': 634.0}\n",
            "{'text': 'decent that I get a choice of my branch', 'start_time': 631.6, 'end_time': 636.0}\n",
            "{'text': 'and I get a choice of my college. So', 'start_time': 634.0, 'end_time': 637.76}\n",
            "{'text': 'there are so many branches that you can', 'start_time': 636.0, 'end_time': 639.36}\n",
            "{'text': 'there are almost like 36 specialties', 'start_time': 637.76, 'end_time': 641.04}\n",
            "{'text': 'that you can opt for after an EPG is', 'start_time': 639.36, 'end_time': 642.9590000000001}\n",
            "{'text': 'done. So to get a branch of your choice', 'start_time': 641.04, 'end_time': 644.8}\n",
            "{'text': 'you really have to have a good rank. So', 'start_time': 642.959, 'end_time': 646.64}\n",
            "{'text': 'you have to study according to that. If', 'start_time': 644.8, 'end_time': 648.4799999999999}\n",
            "{'text': 'you keep this motivation in mind if you', 'start_time': 646.64, 'end_time': 650.399}\n",
            "{'text': 'feel like there is a certain big reason', 'start_time': 648.48, 'end_time': 651.9200000000001}\n",
            "{'text': \"maybe it's your parents that that you\", 'start_time': 650.399, 'end_time': 653.76}\n",
            "{'text': \"want to see them happy. Maybe it's your\", 'start_time': 651.92, 'end_time': 655.5999999999999}\n",
            "{'text': 'sister that you promise to I will crack', 'start_time': 653.76, 'end_time': 656.959}\n",
            "{'text': \"this exam no matter what. Maybe it's\", 'start_time': 655.6, 'end_time': 658.32}\n",
            "{'text': 'your mentor. motivates me that you', 'start_time': 656.959, 'end_time': 660.4799999999999}\n",
            "{'text': 'promise to just remind yourself of why', 'start_time': 658.32, 'end_time': 662.32}\n",
            "{'text': 'you started my friend. And for all the', 'start_time': 660.48, 'end_time': 663.36}\n",
            "{'text': 'students who are preparing for', 'start_time': 662.32, 'end_time': 664.6400000000001}\n",
            "{'text': 'competitive examinations, there is', 'start_time': 663.36, 'end_time': 666.8000000000001}\n",
            "{'text': 'something I want to tell you. If you are', 'start_time': 664.64, 'end_time': 669.1999999999999}\n",
            "{'text': \"not preparing with your 100%, if you're\", 'start_time': 666.8, 'end_time': 670.7199999999999}\n",
            "{'text': 'not giving all of your efforts, if', 'start_time': 669.2, 'end_time': 673.0400000000001}\n",
            "{'text': \"you're not giving that one last drop of\", 'start_time': 670.72, 'end_time': 674.64}\n",
            "{'text': 'everything that you can give, you should', 'start_time': 673.04, 'end_time': 676.8}\n",
            "{'text': \"not be preparing. That's the simple\", 'start_time': 674.64, 'end_time': 680.079}\n",
            "{'text': \"simple fun. If you're not giving 100%,\", 'start_time': 676.8, 'end_time': 682.399}\n",
            "{'text': \"don't give 99% efforts. Just stop giving\", 'start_time': 680.079, 'end_time': 683.8389999999999}\n",
            "{'text': \"efforts because even if you're giving\", 'start_time': 682.399, 'end_time': 686.0}\n",
            "{'text': '99% efforts, you are not going to get', 'start_time': 683.839, 'end_time': 687.7600000000001}\n",
            "{'text': \"selected. That's the simple ideology.\", 'start_time': 686.0, 'end_time': 689.76}\n",
            "{'text': 'The number of seats are so low. 20 lakh', 'start_time': 687.76, 'end_time': 691.36}\n",
            "{'text': 'people are appearing. One lakh seats are', 'start_time': 689.76, 'end_time': 694.3199999999999}\n",
            "{'text': 'there. 5% selection ratio. If you are', 'start_time': 691.36, 'end_time': 696.64}\n",
            "{'text': 'not in the top 10 people, there is no', 'start_time': 694.32, 'end_time': 698.88}\n",
            "{'text': \"way that you will be selected. So that's\", 'start_time': 696.64, 'end_time': 700.24}\n",
            "{'text': 'the idea that you have to follow guys', 'start_time': 698.88, 'end_time': 702.16}\n",
            "{'text': \"that if I'm not giving my 100%, I should\", 'start_time': 700.24, 'end_time': 703.6}\n",
            "{'text': 'not be studying in the first place.', 'start_time': 702.16, 'end_time': 705.4399999999999}\n",
            "{'text': \"That's the idea. So always give your\", 'start_time': 703.6, 'end_time': 707.519}\n",
            "{'text': '100% and remind yourself of why did you', 'start_time': 705.44, 'end_time': 708.9590000000001}\n",
            "{'text': 'actually start studying in the first', 'start_time': 707.519, 'end_time': 710.72}\n",
            "{'text': 'place. And this will give you really big', 'start_time': 708.959, 'end_time': 712.399}\n",
            "{'text': 'motivation. The next step is to', 'start_time': 710.72, 'end_time': 714.32}\n",
            "{'text': 'visualize your success. This is a very', 'start_time': 712.399, 'end_time': 715.6}\n",
            "{'text': 'essential thing in life which I', 'start_time': 714.32, 'end_time': 717.7600000000001}\n",
            "{'text': 'personally do. So visualize what you are', 'start_time': 715.6, 'end_time': 720.24}\n",
            "{'text': 'studying for. Okay? Always remember that', 'start_time': 717.76, 'end_time': 721.68}\n",
            "{'text': 'we are actually studying for something.', 'start_time': 720.24, 'end_time': 723.519}\n",
            "{'text': \"It's not just like we are studying to\", 'start_time': 721.68, 'end_time': 725.3599999999999}\n",
            "{'text': 'pass this exam, we are studying to pass', 'start_time': 723.519, 'end_time': 726.9590000000001}\n",
            "{'text': 'that exam. No, no. All of these exams', 'start_time': 725.36, 'end_time': 728.639}\n",
            "{'text': 'lead to a bigger path. All of these', 'start_time': 726.959, 'end_time': 730.3199999999999}\n",
            "{'text': 'exams lead to a bigger destination. All', 'start_time': 728.639, 'end_time': 731.6}\n",
            "{'text': 'of these are just checkpoints that you', 'start_time': 730.32, 'end_time': 733.279}\n",
            "{'text': 'have to go through to beat the final', 'start_time': 731.6, 'end_time': 734.9590000000001}\n",
            "{'text': 'boss. And even after you have beaten the', 'start_time': 733.279, 'end_time': 735.92}\n",
            "{'text': \"final boss, maybe you're going\", 'start_time': 734.959, 'end_time': 737.4399999999999}\n",
            "{'text': \"somewhere. So that's the thing that you\", 'start_time': 735.92, 'end_time': 739.12}\n",
            "{'text': 'have to remember. What is the bigger', 'start_time': 737.44, 'end_time': 740.399}\n",
            "{'text': 'picture and what are you chasing', 'start_time': 739.12, 'end_time': 741.839}\n",
            "{'text': \"towards? Let's say that you want to\", 'start_time': 740.399, 'end_time': 743.2}\n",
            "{'text': \"become a doctor. Let's say that you want\", 'start_time': 741.839, 'end_time': 744.8000000000001}\n",
            "{'text': 'to become hypothetically speaking a', 'start_time': 743.2, 'end_time': 746.5600000000001}\n",
            "{'text': 'cardiologist. You should visualize', 'start_time': 744.8, 'end_time': 748.16}\n",
            "{'text': 'yourself as a cardiologist. You should', 'start_time': 746.56, 'end_time': 749.68}\n",
            "{'text': 'visualize how your day is going to be', 'start_time': 748.16, 'end_time': 751.04}\n",
            "{'text': \"looking like and one exercise which I'll\", 'start_time': 749.68, 'end_time': 752.88}\n",
            "{'text': 'give to you right now. Just go to chat', 'start_time': 751.04, 'end_time': 755.36}\n",
            "{'text': 'GP. Just describe to chat GP. Okay. Hi,', 'start_time': 752.88, 'end_time': 756.959}\n",
            "{'text': \"I'm this this person. I'm currently in\", 'start_time': 755.36, 'end_time': 758.88}\n",
            "{'text': 'second year of MBBS and I want to become', 'start_time': 756.959, 'end_time': 760.6389999999999}\n",
            "{'text': 'a cardiologist in maybe the next 10', 'start_time': 758.88, 'end_time': 762.56}\n",
            "{'text': 'years. How is my day going to look like', 'start_time': 760.639, 'end_time': 764.72}\n",
            "{'text': \"as a cardiologist in let's say Nagpur\", 'start_time': 762.56, 'end_time': 766.7199999999999}\n",
            "{'text': 'city and I have so many patients and', 'start_time': 764.72, 'end_time': 768.5600000000001}\n",
            "{'text': 'this this and just look at what chat GBP', 'start_time': 766.72, 'end_time': 769.76}\n",
            "{'text': 'gives you as a response. It will give', 'start_time': 768.56, 'end_time': 772.16}\n",
            "{'text': 'you you wake up at 6:00 a.m. Then you', 'start_time': 769.76, 'end_time': 773.92}\n",
            "{'text': 'walk and jog for a few hours. Then you', 'start_time': 772.16, 'end_time': 775.519}\n",
            "{'text': 'uh and go to your cat lab. You do all', 'start_time': 773.92, 'end_time': 777.519}\n",
            "{'text': 'the patients. Then uh in the evening you', 'start_time': 775.519, 'end_time': 778.9590000000001}\n",
            "{'text': 'are spending time with the patients who', 'start_time': 777.519, 'end_time': 780.48}\n",
            "{'text': 'you have already had some kind of', 'start_time': 778.959, 'end_time': 782.6389999999999}\n",
            "{'text': 'percaneous thing done to them. So just', 'start_time': 780.48, 'end_time': 784.32}\n",
            "{'text': 'look at that. Then visualize that you', 'start_time': 782.639, 'end_time': 786.24}\n",
            "{'text': 'are going to be living that day one day.', 'start_time': 784.32, 'end_time': 788.0}\n",
            "{'text': 'And trust me I have been saying this for', 'start_time': 786.24, 'end_time': 790.0}\n",
            "{'text': 'years. Uh the hands that you have just', 'start_time': 788.0, 'end_time': 791.6}\n",
            "{'text': 'look at your hands. These hands will do', 'start_time': 790.0, 'end_time': 793.44}\n",
            "{'text': 'so many big things in the future. These', 'start_time': 791.6, 'end_time': 794.72}\n",
            "{'text': 'hands might become the hands of the', 'start_time': 793.44, 'end_time': 796.639}\n",
            "{'text': 'surgeon who is saving a life during a', 'start_time': 794.72, 'end_time': 798.5600000000001}\n",
            "{'text': 'very traumatic situation. These hands', 'start_time': 796.639, 'end_time': 800.0}\n",
            "{'text': 'might become the hands that prescribe', 'start_time': 798.56, 'end_time': 802.399}\n",
            "{'text': 'medicines that cure very big diseases or', 'start_time': 800.0, 'end_time': 804.399}\n",
            "{'text': 'even simply help others. So just look at', 'start_time': 802.399, 'end_time': 806.56}\n",
            "{'text': 'your hands and visualize what these', 'start_time': 804.399, 'end_time': 807.839}\n",
            "{'text': 'things are going to be doing in the', 'start_time': 806.56, 'end_time': 810.079}\n",
            "{'text': 'future and you work hard only for that.', 'start_time': 807.839, 'end_time': 812.0}\n",
            "{'text': 'When you visualize like this you keep', 'start_time': 810.079, 'end_time': 813.8389999999999}\n",
            "{'text': 'taking into mind your future. These', 'start_time': 812.0, 'end_time': 815.279}\n",
            "{'text': 'small small exams that you have to give', 'start_time': 813.839, 'end_time': 817.2}\n",
            "{'text': 'along the way they stop mattering. So', 'start_time': 815.279, 'end_time': 818.48}\n",
            "{'text': 'you have to keep the bigger picture in', 'start_time': 817.2, 'end_time': 820.1600000000001}\n",
            "{'text': 'mind. If possible make a vision board. I', 'start_time': 818.48, 'end_time': 821.36}\n",
            "{'text': 'always say this make a vision board.', 'start_time': 820.16, 'end_time': 822.7199999999999}\n",
            "{'text': \"It's really essential that you do that.\", 'start_time': 821.36, 'end_time': 824.32}\n",
            "{'text': \"If possible I'll make a video about how\", 'start_time': 822.72, 'end_time': 825.839}\n",
            "{'text': 'do you make your vision board. And yes,', 'start_time': 824.32, 'end_time': 827.6800000000001}\n",
            "{'text': 'that brings me to my next point is you', 'start_time': 825.839, 'end_time': 829.519}\n",
            "{'text': \"connect with your peers. So let's say\", 'start_time': 827.68, 'end_time': 831.04}\n",
            "{'text': 'that you are feeling in a study slump.', 'start_time': 829.519, 'end_time': 832.48}\n",
            "{'text': 'You call up somebody who is studying', 'start_time': 831.04, 'end_time': 833.8389999999999}\n",
            "{'text': 'really well. You ask them a few', 'start_time': 832.48, 'end_time': 834.88}\n",
            "{'text': 'questions that you are not able to', 'start_time': 833.839, 'end_time': 836.1600000000001}\n",
            "{'text': 'solve. You ask them a few doubts that', 'start_time': 834.88, 'end_time': 838.079}\n",
            "{'text': 'you are not able to uh solve properly.', 'start_time': 836.16, 'end_time': 839.76}\n",
            "{'text': 'They will give you a lot of motivation.', 'start_time': 838.079, 'end_time': 841.279}\n",
            "{'text': 'So if you are not feeling well, connect', 'start_time': 839.76, 'end_time': 842.88}\n",
            "{'text': 'to your peers who are actually doing', 'start_time': 841.279, 'end_time': 844.079}\n",
            "{'text': 'well. They will motivate you quite a', 'start_time': 842.88, 'end_time': 845.4399999999999}\n",
            "{'text': \"lot. It's often said that you are the\", 'start_time': 844.079, 'end_time': 846.88}\n",
            "{'text': 'average of the 10 person that you are', 'start_time': 845.44, 'end_time': 848.399}\n",
            "{'text': 'very closest with. So if these 10', 'start_time': 846.88, 'end_time': 849.519}\n",
            "{'text': 'persons are doing well, you will', 'start_time': 848.399, 'end_time': 851.279}\n",
            "{'text': 'automatically start to do well. So', 'start_time': 849.519, 'end_time': 852.32}\n",
            "{'text': \"that's what you have to do. You have to\", 'start_time': 851.279, 'end_time': 853.92}\n",
            "{'text': 'surround yourself with people who are', 'start_time': 852.32, 'end_time': 856.5600000000001}\n",
            "{'text': 'studious. So luckily in my MBBS there I', 'start_time': 853.92, 'end_time': 858.079}\n",
            "{'text': 'had a group of friends though some of', 'start_time': 856.56, 'end_time': 860.16}\n",
            "{'text': 'them are not my friends anymore but at', 'start_time': 858.079, 'end_time': 861.5999999999999}\n",
            "{'text': 'that time these friends were really', 'start_time': 860.16, 'end_time': 863.199}\n",
            "{'text': 'motivating and they were studying I was', 'start_time': 861.6, 'end_time': 864.5600000000001}\n",
            "{'text': 'also studying with them and when they', 'start_time': 863.199, 'end_time': 866.16}\n",
            "{'text': 'were not studying I was motivating them.', 'start_time': 864.56, 'end_time': 867.68}\n",
            "{'text': \"So that's the idea have a group of\", 'start_time': 866.16, 'end_time': 869.12}\n",
            "{'text': 'friends who are studying together. So if', 'start_time': 867.68, 'end_time': 870.959}\n",
            "{'text': 'even if one or two of you falls into a', 'start_time': 869.12, 'end_time': 872.639}\n",
            "{'text': 'study slump you all can pick yourself', 'start_time': 870.959, 'end_time': 874.959}\n",
            "{'text': 'back. Remember your friends are not your', 'start_time': 872.639, 'end_time': 876.24}\n",
            "{'text': 'competition. You are your own', 'start_time': 874.959, 'end_time': 877.68}\n",
            "{'text': 'competition. You have to be better than', 'start_time': 876.24, 'end_time': 880.0790000000001}\n",
            "{'text': 'yourself. Always people think that okay', 'start_time': 877.68, 'end_time': 881.8389999999999}\n",
            "{'text': 'my friends are doing better than me so I', 'start_time': 880.079, 'end_time': 883.519}\n",
            "{'text': 'will not tell anything to my friends and', 'start_time': 881.839, 'end_time': 885.36}\n",
            "{'text': \"we will stop being friends. That's not\", 'start_time': 883.519, 'end_time': 886.88}\n",
            "{'text': 'how it works. That person will', 'start_time': 885.36, 'end_time': 889.04}\n",
            "{'text': 'individually do however much he wants to', 'start_time': 886.88, 'end_time': 891.04}\n",
            "{'text': 'do in life. You cannot stop him. You', 'start_time': 889.04, 'end_time': 893.36}\n",
            "{'text': 'cannot fail him. You cannot harm him in', 'start_time': 891.04, 'end_time': 895.519}\n",
            "{'text': 'any way. But what you can do is only to', 'start_time': 893.36, 'end_time': 897.36}\n",
            "{'text': 'yourself. If you study well, you will be', 'start_time': 895.519, 'end_time': 899.12}\n",
            "{'text': 'selected. If he studies well, he will be', 'start_time': 897.36, 'end_time': 901.04}\n",
            "{'text': \"selected. So that's the idea. You are\", 'start_time': 899.12, 'end_time': 902.16}\n",
            "{'text': 'your own competition. And when you', 'start_time': 901.04, 'end_time': 904.24}\n",
            "{'text': 'internalize this, you can be really good', 'start_time': 902.16, 'end_time': 905.92}\n",
            "{'text': 'friends with even your competitors.', 'start_time': 904.24, 'end_time': 907.6800000000001}\n",
            "{'text': 'Lastly, try out good active study', 'start_time': 905.92, 'end_time': 909.68}\n",
            "{'text': 'methods. I have made an entire video on', 'start_time': 907.68, 'end_time': 911.04}\n",
            "{'text': 'the various revision techniques you can', 'start_time': 909.68, 'end_time': 913.04}\n",
            "{'text': 'use. It talks about so many different', 'start_time': 911.04, 'end_time': 914.88}\n",
            "{'text': \"techniques. Here's the video link. You\", 'start_time': 913.04, 'end_time': 916.48}\n",
            "{'text': 'can go check it out. It will really help', 'start_time': 914.88, 'end_time': 918.32}\n",
            "{'text': 'you get out of a study slump. It will', 'start_time': 916.48, 'end_time': 920.0790000000001}\n",
            "{'text': 'help you really specifically do a', 'start_time': 918.32, 'end_time': 921.6}\n",
            "{'text': 'revision if you are stuck with respect', 'start_time': 920.079, 'end_time': 923.279}\n",
            "{'text': 'to that. Otherwise, here are all the', 'start_time': 921.6, 'end_time': 924.72}\n",
            "{'text': 'tips that I shared with you. And I', 'start_time': 923.279, 'end_time': 926.079}\n",
            "{'text': 'really hope you enjoyed this video. If', 'start_time': 924.72, 'end_time': 927.44}\n",
            "{'text': 'you did, please make sure to subscribe', 'start_time': 926.079, 'end_time': 928.8}\n",
            "{'text': 'to the channel and expect more such', 'start_time': 927.44, 'end_time': 930.8000000000001}\n",
            "{'text': 'incredible videos for you in the future.', 'start_time': 928.8, 'end_time': 932.079}\n",
            "{'text': 'And I promise you, if you subscribe to', 'start_time': 930.8, 'end_time': 933.68}\n",
            "{'text': \"my channel, I won't even waste a single\", 'start_time': 932.079, 'end_time': 935.3599999999999}\n",
            "{'text': \"second of your life. That's my promise\", 'start_time': 933.68, 'end_time': 936.88}\n",
            "{'text': \"to you. Thank you so much. It's about\", 'start_time': 935.36, 'end_time': 940.24}\n",
            "{'text': \"Dr. and I'll catch you in the next one.\", 'start_time': 936.88, 'end_time': 940.24}\n"
          ]
        }
      ]
    },
    {
      "cell_type": "markdown",
      "source": [
        "# Step 1-b Indexing (Text Splitter)"
      ],
      "metadata": {
        "id": "3nPVkJyO8d56"
      }
    },
    {
      "cell_type": "code",
      "source": [
        "from langchain.text_splitter import RecursiveCharacterTextSplitter\n",
        "\n",
        "# join transcript dicts into one long string\n",
        "full_text = \" \".join(entry[\"text\"] for entry in transcript)\n",
        "\n",
        "splitter = RecursiveCharacterTextSplitter(chunk_size=1000, chunk_overlap=200)\n",
        "chunks = splitter.create_documents([full_text])\n",
        "\n",
        "print(chunks[0].page_content[:300])  # preview first chunk\n"
      ],
      "metadata": {
        "colab": {
          "base_uri": "https://localhost:8080/"
        },
        "id": "riaC0Kvt4n3V",
        "outputId": "fcb6067b-623a-400a-89e5-a36444f99b8a"
      },
      "execution_count": null,
      "outputs": [
        {
          "output_type": "stream",
          "name": "stdout",
          "text": [
            "Are you somebody who's struggling to get back to studies after a long break? Or you're somebody who was studying very well but somehow suddenly can't find the motivation to start studying back again. You might be preparing for that one exam which is really important or that one test coming up next S\n"
          ]
        }
      ]
    },
    {
      "cell_type": "code",
      "source": [
        "len(chunks)"
      ],
      "metadata": {
        "colab": {
          "base_uri": "https://localhost:8080/"
        },
        "id": "dELTIMv06GOE",
        "outputId": "cde402b8-e66d-4e45-82d5-deb6d6423b87"
      },
      "execution_count": null,
      "outputs": [
        {
          "output_type": "execute_result",
          "data": {
            "text/plain": [
              "25"
            ]
          },
          "metadata": {},
          "execution_count": 23
        }
      ]
    },
    {
      "cell_type": "code",
      "source": [
        "chunks[0]"
      ],
      "metadata": {
        "colab": {
          "base_uri": "https://localhost:8080/"
        },
        "id": "UlzSWbRR6J3T",
        "outputId": "1312061d-0a9a-4e7b-8e69-d0b46f138b9e"
      },
      "execution_count": null,
      "outputs": [
        {
          "output_type": "execute_result",
          "data": {
            "text/plain": [
              "Document(metadata={}, page_content=\"Are you somebody who's struggling to get back to studies after a long break? Or you're somebody who was studying very well but somehow suddenly can't find the motivation to start studying back again. You might be preparing for that one exam which is really important or that one test coming up next Sunday. Here's your complete guide on how to get out of a study slump if you are in one and also on how to increase your productivity even if you are not feeling like studying. Hello everyone, I'm Dr. Dr. Anush Pachel and I am a first year MD medicine resident at GMC Nagpur and in this video I'll be giving you a straightforward guide filled with 10 tips that you can apply to get out of a study slump instantly. I have been an MBBS student and now I'm an MD student and I've given hundreds of exam in my life and trust me I know the feeling of that study slump. So without any further ado let's start. Step one is identifying that if you are actually in a study slump or not. You know what is a\")"
            ]
          },
          "metadata": {},
          "execution_count": 24
        }
      ]
    },
    {
      "cell_type": "markdown",
      "source": [
        "# Step 1c & 1d -indexing (embedding generation and storing in vector store)"
      ],
      "metadata": {
        "id": "oxs2KMMp97wI"
      }
    },
    {
      "cell_type": "code",
      "source": [
        "embeddings = OpenAIEmbeddings(model=\"text-embedding-3-small\")\n",
        "vector_store = FAISS.from_documents(chunks, embeddings)"
      ],
      "metadata": {
        "id": "wXn8Rqq594NI"
      },
      "execution_count": null,
      "outputs": []
    },
    {
      "cell_type": "code",
      "source": [
        "vector_store.index_to_docstore_id"
      ],
      "metadata": {
        "colab": {
          "base_uri": "https://localhost:8080/"
        },
        "id": "620Xnklq-LjQ",
        "outputId": "4f5b4458-1520-4d9f-c514-208f6d512382"
      },
      "execution_count": null,
      "outputs": [
        {
          "output_type": "execute_result",
          "data": {
            "text/plain": [
              "{0: '2a40a9b1-6817-4dbc-80f3-d940b02bd1bd',\n",
              " 1: 'b6d4969b-27af-4840-b4a0-95012e84c1c3',\n",
              " 2: '73b29b55-af97-4470-9467-6851530fb60a',\n",
              " 3: '4e35ae65-3491-4dd4-b302-3c407ba430e0',\n",
              " 4: 'e8676bdd-2dad-41df-ba87-6857a6749adc',\n",
              " 5: '70070968-b353-4b95-9389-26b617a25fbf',\n",
              " 6: '1b79aeda-7fd7-4977-9daf-f70957d12c96',\n",
              " 7: '1db5bfa4-3e8a-4a0d-b1fc-3995e7028785',\n",
              " 8: '3a60e24a-0a30-4c3c-ab14-73b1e06d441c',\n",
              " 9: '5b05b173-9a5d-4ee5-b17d-1b92a4ab1dda',\n",
              " 10: '7743cc94-be3c-4a6b-819d-ade151f6e2ec',\n",
              " 11: '5e263ed8-9401-42c1-a735-c33f93e00951',\n",
              " 12: '783604cc-8a81-4239-b9d0-dea2eeed1a13',\n",
              " 13: '3b0eadaf-ccf4-4258-ba87-57c786bcefea',\n",
              " 14: '66a09b16-3b81-4913-a431-a73d6e60a8b5',\n",
              " 15: '03d1130c-ce15-4a43-8f70-842ea7a0db25',\n",
              " 16: '8a15db30-8cb5-47ac-b117-5b8322916723',\n",
              " 17: '55e9d988-4900-4436-b002-f8d74cab098b',\n",
              " 18: '2ab198e4-a15d-438d-8b29-56d6ce7b3f7d',\n",
              " 19: 'cc9fd613-14c0-431b-ad14-76edbf3ebe74',\n",
              " 20: 'a3d0d6ce-243e-438f-82f0-5fd0a250cbf0',\n",
              " 21: 'a3d6412b-debe-4d99-8dd8-9033f0ba5b18',\n",
              " 22: '88d3ad97-d55a-45e9-b3bf-7c65ddddb219',\n",
              " 23: 'fd958726-4e62-46d7-a9ee-9be943cc729e',\n",
              " 24: '16721d10-12ed-482b-8b9e-6c2a184a8d9a'}"
            ]
          },
          "metadata": {},
          "execution_count": 26
        }
      ]
    },
    {
      "cell_type": "code",
      "source": [
        "vector_store.get_by_ids(['55e9d988-4900-4436-b002-f8d74cab098b'])"
      ],
      "metadata": {
        "colab": {
          "base_uri": "https://localhost:8080/"
        },
        "id": "Fcvh7CJB-xIo",
        "outputId": "4daec7a8-a3c2-40f4-86f2-ce3048530690"
      },
      "execution_count": null,
      "outputs": [
        {
          "output_type": "execute_result",
          "data": {
            "text/plain": [
              "[Document(id='55e9d988-4900-4436-b002-f8d74cab098b', metadata={}, page_content=\"big reason maybe it's your parents that that you want to see them happy. Maybe it's your sister that you promise to I will crack this exam no matter what. Maybe it's your mentor. motivates me that you promise to just remind yourself of why you started my friend. And for all the students who are preparing for competitive examinations, there is something I want to tell you. If you are not preparing with your 100%, if you're not giving all of your efforts, if you're not giving that one last drop of everything that you can give, you should not be preparing. That's the simple simple fun. If you're not giving 100%, don't give 99% efforts. Just stop giving efforts because even if you're giving 99% efforts, you are not going to get selected. That's the simple ideology. The number of seats are so low. 20 lakh people are appearing. One lakh seats are there. 5% selection ratio. If you are not in the top 10 people, there is no way that you will be selected. So that's the idea that you have to\")]"
            ]
          },
          "metadata": {},
          "execution_count": 28
        }
      ]
    },
    {
      "cell_type": "markdown",
      "source": [
        "# Step 2 - Retrieval"
      ],
      "metadata": {
        "id": "C8R4NJL9-76_"
      }
    },
    {
      "cell_type": "code",
      "source": [
        "retriever = vector_store.as_retriever(search_type=\"similarity\", search_kwargs={\"k\": 4})"
      ],
      "metadata": {
        "id": "eG3GQtq3-0P_"
      },
      "execution_count": null,
      "outputs": []
    },
    {
      "cell_type": "code",
      "source": [
        "retriever.invoke('What is Motivation')"
      ],
      "metadata": {
        "colab": {
          "base_uri": "https://localhost:8080/"
        },
        "id": "r41zI0ax_Cqn",
        "outputId": "c5afa43b-16a9-4020-fe48-772c0065c01b"
      },
      "execution_count": null,
      "outputs": [
        {
          "output_type": "execute_result",
          "data": {
            "text/plain": [
              "[Document(id='8a15db30-8cb5-47ac-b117-5b8322916723', metadata={}, page_content=\"I have taken to start studying in the first place and I cannot let this go. So my main goal was to I'll never take a drop and that's the way I studied consistently. I reminded myself yeah if I don't study I have to take a drop. So I reminded myself of why I'm actually studying. Okay I want to become a doctor that's always secondary but that was my main motivation in my need PG. My motivation was I need to get a rank so decent that I get a choice of my branch and I get a choice of my college. So there are so many branches that you can there are almost like 36 specialties that you can opt for after an EPG is done. So to get a branch of your choice you really have to have a good rank. So you have to study according to that. If you keep this motivation in mind if you feel like there is a certain big reason maybe it's your parents that that you want to see them happy. Maybe it's your sister that you promise to I will crack this exam no matter what. Maybe it's your mentor. motivates me that\"),\n",
              " Document(id='03d1130c-ce15-4a43-8f70-842ea7a0db25', metadata={}, page_content=\"studying? And remind yourself of the reasons that you started in the first place. Maybe sometimes it's a motivation issue, right? That you are not able to motivate yourself to get down to the desk. Just remind yourself why did you start? So for me cracking my knee usually I'll tell you my story. My biggest motivation was not taking a drop. Yes, I know it's a very bad thing to say that the biggest motivation for me was something very negative like taking a drop. So that was my motivation and no matter what I will crack my neogi in my first attempt I don't have any other chance. That was only one plan and if I don't succeed in that my life is wasted. That is how I had made up my mind and I always whenever I felt like I don't want to study I just kept on reminding myself this how much efforts I have taken to start studying in the first place and I cannot let this go. So my main goal was to I'll never take a drop and that's the way I studied consistently. I reminded myself yeah if I don't\"),\n",
              " Document(id='73b29b55-af97-4470-9467-6851530fb60a', metadata={}, page_content=\"place, that's when you know that you have lost the motivation to study. So these are the few signs. If you have any of these then make sure that you follow this video carefully. So the immediate next step that you can do in your life is to change the environment in which you are studying. What I used to do is that I used to feel a study's lump whenever I was sitting in my room for long periods of time like months at a stretch. And I used to lose all the motivation to study. But once I joined the library that's when you find a real motivation to start studying back again. This was a serious case I had and finally I remember where I just would not study if I was in my room. So I had to sit in the library for an entirety of days in order to study well. So first step is changing the place of your study. If you're not too attached with the space of study, that is if you don't have all the notes around all the books and you can easily change your place, go do that for at least a few days or\"),\n",
              " Document(id='88d3ad97-d55a-45e9-b3bf-7c65ddddb219', metadata={}, page_content=\"that you are not able to solve. You ask them a few doubts that you are not able to uh solve properly. They will give you a lot of motivation. So if you are not feeling well, connect to your peers who are actually doing well. They will motivate you quite a lot. It's often said that you are the average of the 10 person that you are very closest with. So if these 10 persons are doing well, you will automatically start to do well. So that's what you have to do. You have to surround yourself with people who are studious. So luckily in my MBBS there I had a group of friends though some of them are not my friends anymore but at that time these friends were really motivating and they were studying I was also studying with them and when they were not studying I was motivating them. So that's the idea have a group of friends who are studying together. So if even if one or two of you falls into a study slump you all can pick yourself back. Remember your friends are not your competition. You are\")]"
            ]
          },
          "metadata": {},
          "execution_count": 39
        }
      ]
    },
    {
      "cell_type": "markdown",
      "source": [
        "## step - 3 Augmentation"
      ],
      "metadata": {
        "id": "Q4zhB0k9_bm4"
      }
    },
    {
      "cell_type": "code",
      "source": [
        "llm = ChatOpenAI(model=\"gpt-4o-mini\", temperature=0.2)"
      ],
      "metadata": {
        "id": "fmOg7yog_MHf"
      },
      "execution_count": null,
      "outputs": []
    },
    {
      "cell_type": "code",
      "source": [
        "prompt = PromptTemplate(\n",
        "    template=\"\"\"\n",
        "      You are a helpful assistant.\n",
        "      Answer ONLY from the provided transcript context.\n",
        "      If the context is insufficient, just say NO.\n",
        "\n",
        "      {context}\n",
        "      Question: {question}\n",
        "    \"\"\",\n",
        "    input_variables = ['context', 'question']\n",
        ")"
      ],
      "metadata": {
        "id": "y35d25QY_gLn"
      },
      "execution_count": null,
      "outputs": []
    },
    {
      "cell_type": "code",
      "source": [
        "question          = \"is the topic of motivation discussed in this video? if yes then what was discussed\"\n",
        "retrieved_docs    = retriever.invoke(question)"
      ],
      "metadata": {
        "id": "fYLCvX9v_lf3"
      },
      "execution_count": null,
      "outputs": []
    },
    {
      "cell_type": "code",
      "source": [
        "retrieved_docs"
      ],
      "metadata": {
        "colab": {
          "base_uri": "https://localhost:8080/"
        },
        "id": "KBES32lT_oKv",
        "outputId": "54981105-51c1-4873-c69f-1f8410ed5ca0"
      },
      "execution_count": null,
      "outputs": [
        {
          "output_type": "execute_result",
          "data": {
            "text/plain": [
              "[Document(id='73b29b55-af97-4470-9467-6851530fb60a', metadata={}, page_content=\"place, that's when you know that you have lost the motivation to study. So these are the few signs. If you have any of these then make sure that you follow this video carefully. So the immediate next step that you can do in your life is to change the environment in which you are studying. What I used to do is that I used to feel a study's lump whenever I was sitting in my room for long periods of time like months at a stretch. And I used to lose all the motivation to study. But once I joined the library that's when you find a real motivation to start studying back again. This was a serious case I had and finally I remember where I just would not study if I was in my room. So I had to sit in the library for an entirety of days in order to study well. So first step is changing the place of your study. If you're not too attached with the space of study, that is if you don't have all the notes around all the books and you can easily change your place, go do that for at least a few days or\"),\n",
              " Document(id='66a09b16-3b81-4913-a431-a73d6e60a8b5', metadata={}, page_content=\"join a gym. Even in my blueprint program, I've recommended go join a gym. That will keep you physically active and you know the way that you mind muscle connection, all of that that actually boosts the endorphins in your body that keep you generally happy and much more focused. And that's one hour of activity that you're doing completely without your phone. So that's always a good thing that will also help you curb your phone addiction. So yeah, that was the very essential point for all the students who are watching this video. Please stay physically active in whatever field that you are in. The next step is that think about why did you actually start? Why did you start studying for this exam? Why did you want to become a doctor? Why did you want to become an engineer? Why did you start studying? And remind yourself of the reasons that you started in the first place. Maybe sometimes it's a motivation issue, right? That you are not able to motivate yourself to get down to the desk.\"),\n",
              " Document(id='b6d4969b-27af-4840-b4a0-95012e84c1c3', metadata={}, page_content=\"in my life and trust me I know the feeling of that study slump. So without any further ado let's start. Step one is identifying that if you are actually in a study slump or not. You know what is a study slump? Even though you are trying to sit on the desk and start to study, even though your book is open but nothing is going inside your brain, that's when you have a study slump. When you cannot focus your mind for long periods of time which you are earlier able to do without any hesitation, that's when you have the issue. When you're too much into procrastination like I don't want to do this, I'll do it the next day or so on. That's when you have an issue. And most importantly, when you look at the syllabus and you feel so overwhelmed that you don't want to touch these books in the first place, that's when you know that you have lost the motivation to study. So these are the few signs. If you have any of these then make sure that you follow this video carefully. So the immediate next\"),\n",
              " Document(id='16721d10-12ed-482b-8b9e-6c2a184a8d9a', metadata={}, page_content=\"with even your competitors. Lastly, try out good active study methods. I have made an entire video on the various revision techniques you can use. It talks about so many different techniques. Here's the video link. You can go check it out. It will really help you get out of a study slump. It will help you really specifically do a revision if you are stuck with respect to that. Otherwise, here are all the tips that I shared with you. And I really hope you enjoyed this video. If you did, please make sure to subscribe to the channel and expect more such incredible videos for you in the future. And I promise you, if you subscribe to my channel, I won't even waste a single second of your life. That's my promise to you. Thank you so much. It's about Dr. and I'll catch you in the next one.\")]"
            ]
          },
          "metadata": {},
          "execution_count": 63
        }
      ]
    },
    {
      "cell_type": "code",
      "source": [
        "context_text = \"\\n\\n\".join(doc.page_content for doc in retrieved_docs)\n",
        "context_text"
      ],
      "metadata": {
        "colab": {
          "base_uri": "https://localhost:8080/",
          "height": 105
        },
        "id": "iAoJGsYx_qsX",
        "outputId": "62ef63ec-c37d-456c-bb23-aa280303e222"
      },
      "execution_count": null,
      "outputs": [
        {
          "output_type": "execute_result",
          "data": {
            "text/plain": [
              "\"place, that's when you know that you have lost the motivation to study. So these are the few signs. If you have any of these then make sure that you follow this video carefully. So the immediate next step that you can do in your life is to change the environment in which you are studying. What I used to do is that I used to feel a study's lump whenever I was sitting in my room for long periods of time like months at a stretch. And I used to lose all the motivation to study. But once I joined the library that's when you find a real motivation to start studying back again. This was a serious case I had and finally I remember where I just would not study if I was in my room. So I had to sit in the library for an entirety of days in order to study well. So first step is changing the place of your study. If you're not too attached with the space of study, that is if you don't have all the notes around all the books and you can easily change your place, go do that for at least a few days or\\n\\njoin a gym. Even in my blueprint program, I've recommended go join a gym. That will keep you physically active and you know the way that you mind muscle connection, all of that that actually boosts the endorphins in your body that keep you generally happy and much more focused. And that's one hour of activity that you're doing completely without your phone. So that's always a good thing that will also help you curb your phone addiction. So yeah, that was the very essential point for all the students who are watching this video. Please stay physically active in whatever field that you are in. The next step is that think about why did you actually start? Why did you start studying for this exam? Why did you want to become a doctor? Why did you want to become an engineer? Why did you start studying? And remind yourself of the reasons that you started in the first place. Maybe sometimes it's a motivation issue, right? That you are not able to motivate yourself to get down to the desk.\\n\\nin my life and trust me I know the feeling of that study slump. So without any further ado let's start. Step one is identifying that if you are actually in a study slump or not. You know what is a study slump? Even though you are trying to sit on the desk and start to study, even though your book is open but nothing is going inside your brain, that's when you have a study slump. When you cannot focus your mind for long periods of time which you are earlier able to do without any hesitation, that's when you have the issue. When you're too much into procrastination like I don't want to do this, I'll do it the next day or so on. That's when you have an issue. And most importantly, when you look at the syllabus and you feel so overwhelmed that you don't want to touch these books in the first place, that's when you know that you have lost the motivation to study. So these are the few signs. If you have any of these then make sure that you follow this video carefully. So the immediate next\\n\\nwith even your competitors. Lastly, try out good active study methods. I have made an entire video on the various revision techniques you can use. It talks about so many different techniques. Here's the video link. You can go check it out. It will really help you get out of a study slump. It will help you really specifically do a revision if you are stuck with respect to that. Otherwise, here are all the tips that I shared with you. And I really hope you enjoyed this video. If you did, please make sure to subscribe to the channel and expect more such incredible videos for you in the future. And I promise you, if you subscribe to my channel, I won't even waste a single second of your life. That's my promise to you. Thank you so much. It's about Dr. and I'll catch you in the next one.\""
            ],
            "application/vnd.google.colaboratory.intrinsic+json": {
              "type": "string"
            }
          },
          "metadata": {},
          "execution_count": 64
        }
      ]
    },
    {
      "cell_type": "code",
      "source": [
        "final_prompt = prompt.invoke({\"context\": context_text, \"question\": question})"
      ],
      "metadata": {
        "id": "w2UXypuFCKSF"
      },
      "execution_count": null,
      "outputs": []
    },
    {
      "cell_type": "code",
      "source": [
        "final_prompt"
      ],
      "metadata": {
        "colab": {
          "base_uri": "https://localhost:8080/"
        },
        "id": "xTrgRdnHCQb0",
        "outputId": "ae05cd65-cb59-42f2-95f5-c0e40a3c8edc"
      },
      "execution_count": null,
      "outputs": [
        {
          "output_type": "execute_result",
          "data": {
            "text/plain": [
              "StringPromptValue(text=\"\\n      You are a helpful assistant.\\n      Answer ONLY from the provided transcript context.\\n      If the context is insufficient, just say NO.\\n\\n      place, that's when you know that you have lost the motivation to study. So these are the few signs. If you have any of these then make sure that you follow this video carefully. So the immediate next step that you can do in your life is to change the environment in which you are studying. What I used to do is that I used to feel a study's lump whenever I was sitting in my room for long periods of time like months at a stretch. And I used to lose all the motivation to study. But once I joined the library that's when you find a real motivation to start studying back again. This was a serious case I had and finally I remember where I just would not study if I was in my room. So I had to sit in the library for an entirety of days in order to study well. So first step is changing the place of your study. If you're not too attached with the space of study, that is if you don't have all the notes around all the books and you can easily change your place, go do that for at least a few days or\\n\\njoin a gym. Even in my blueprint program, I've recommended go join a gym. That will keep you physically active and you know the way that you mind muscle connection, all of that that actually boosts the endorphins in your body that keep you generally happy and much more focused. And that's one hour of activity that you're doing completely without your phone. So that's always a good thing that will also help you curb your phone addiction. So yeah, that was the very essential point for all the students who are watching this video. Please stay physically active in whatever field that you are in. The next step is that think about why did you actually start? Why did you start studying for this exam? Why did you want to become a doctor? Why did you want to become an engineer? Why did you start studying? And remind yourself of the reasons that you started in the first place. Maybe sometimes it's a motivation issue, right? That you are not able to motivate yourself to get down to the desk.\\n\\nin my life and trust me I know the feeling of that study slump. So without any further ado let's start. Step one is identifying that if you are actually in a study slump or not. You know what is a study slump? Even though you are trying to sit on the desk and start to study, even though your book is open but nothing is going inside your brain, that's when you have a study slump. When you cannot focus your mind for long periods of time which you are earlier able to do without any hesitation, that's when you have the issue. When you're too much into procrastination like I don't want to do this, I'll do it the next day or so on. That's when you have an issue. And most importantly, when you look at the syllabus and you feel so overwhelmed that you don't want to touch these books in the first place, that's when you know that you have lost the motivation to study. So these are the few signs. If you have any of these then make sure that you follow this video carefully. So the immediate next\\n\\nwith even your competitors. Lastly, try out good active study methods. I have made an entire video on the various revision techniques you can use. It talks about so many different techniques. Here's the video link. You can go check it out. It will really help you get out of a study slump. It will help you really specifically do a revision if you are stuck with respect to that. Otherwise, here are all the tips that I shared with you. And I really hope you enjoyed this video. If you did, please make sure to subscribe to the channel and expect more such incredible videos for you in the future. And I promise you, if you subscribe to my channel, I won't even waste a single second of your life. That's my promise to you. Thank you so much. It's about Dr. and I'll catch you in the next one.\\n      Question: is the topic of motivation discussed in this video? if yes then what was discussed\\n    \")"
            ]
          },
          "metadata": {},
          "execution_count": 66
        }
      ]
    },
    {
      "cell_type": "markdown",
      "source": [
        "# Step - 4 Generation"
      ],
      "metadata": {
        "id": "_UkMs5teCjtn"
      }
    },
    {
      "cell_type": "code",
      "source": [
        "answer = llm.invoke(final_prompt)\n",
        "print(answer.content)\n"
      ],
      "metadata": {
        "colab": {
          "base_uri": "https://localhost:8080/"
        },
        "id": "WtxfdC9XCeLp",
        "outputId": "2c546181-ffa4-404c-e274-f087fa4200f4"
      },
      "execution_count": null,
      "outputs": [
        {
          "output_type": "stream",
          "name": "stdout",
          "text": [
            "Yes, the topic of motivation is discussed in this video. It addresses signs of losing motivation to study, such as feeling overwhelmed by the syllabus, procrastination, and an inability to focus. The speaker suggests changing the study environment, reminding oneself of the reasons for studying, and staying physically active to boost motivation. Additionally, it emphasizes the importance of using active study methods and techniques to help overcome a study slump.\n"
          ]
        }
      ]
    },
    {
      "cell_type": "markdown",
      "source": [
        "## Building a Chain"
      ],
      "metadata": {
        "id": "mAzBHJjIC0dj"
      }
    },
    {
      "cell_type": "code",
      "source": [
        "from langchain_core.runnables import RunnableParallel, RunnablePassthrough, RunnableLambda\n",
        "from langchain_core.output_parsers import StrOutputParser"
      ],
      "metadata": {
        "id": "2UJpIKhaCrV0"
      },
      "execution_count": null,
      "outputs": []
    },
    {
      "cell_type": "code",
      "source": [
        "def format_docs(retrieved_docs):\n",
        "  context_text = \"\\n\\n\".join(doc.page_content for doc in retrieved_docs)\n",
        "  return context_text"
      ],
      "metadata": {
        "id": "qTgni5ioC7FM"
      },
      "execution_count": null,
      "outputs": []
    },
    {
      "cell_type": "code",
      "source": [
        "parallel_chain = RunnableParallel({\n",
        "    'context': retriever | RunnableLambda(format_docs),\n",
        "    'question': RunnablePassthrough()\n",
        "})"
      ],
      "metadata": {
        "id": "ITbDQOvSDCMf"
      },
      "execution_count": null,
      "outputs": []
    },
    {
      "cell_type": "code",
      "source": [
        "parallel_chain.invoke('what is energy')"
      ],
      "metadata": {
        "colab": {
          "base_uri": "https://localhost:8080/"
        },
        "id": "OJ1tL2sHC86k",
        "outputId": "b57e84b1-0cc1-469e-9a3a-7f233d023ac5"
      },
      "execution_count": null,
      "outputs": [
        {
          "output_type": "execute_result",
          "data": {
            "text/plain": [
              "{'context': \"in the morning or in the night. Now my general conclusion, my general ideology for most of the people is that even though that you think that you are a night person, it's not like that. If you try to wake up for a few mornings, maybe just 1 hour before your normal time, you will see that mornings are so productive. Now I'll tell you the reason for this. See, in the morning when you wake up, you're full of energy because you've just woken up from your sleep. You have got all your rest. Your brain is fully active. Now you you have a huge energy store. Now, as the day progresses, there are certain activities that you do that take away your energy. So what our idea is that in our evening our energy stores are low. So whatever things we are studying with a low energy reserve, they're not going to be going in your brain that easily because it's low on energy. It's it's taking more energy um to learn new information to focus. Right? So in the morning when you have a lot of energy, I want you\\n\\nto be going in your brain that easily because it's low on energy. It's it's taking more energy um to learn new information to focus. Right? So in the morning when you have a lot of energy, I want you all to put that energy into studies and do it without any friction. That means just wake up and go to uh sit down on your desk. There's no need to brush your teeth as well. Just go and sit down after one or two hours you can brush your teeth. Okay? As a doctor, I tell you it's okay to not brush your teeth on time. So if you wake up at 4, go brush your teeth. That's all it's going to be okay. So that's the thing. Reduce the friction between your bed to your desk or your to your study space. And that's when you'll see that mornings can be really good too. But if you truly are a night person where you get most of the studies done late night, that's when you know that at this particular time you should have no distractions. You should not be talking to friends. You should not be talking to\\n\\ndecision. You're never going to regret joining a gym. But the thing is stay physically active. That means it can happen that there are it's been 2 3 days and you are still in your room. You have not gone out. You're continuously studying inside your room. You are either on your phone, you're either on your bed or you are either on the desk. You don't get any sunlight in. You don't get any fresh air in your system. You don't have any walk that you are doing. So your muscles and ligaments, tendons, joints, nothing is moving. You know that creates a very bad impact on your health as well as on your life. If you're very very stagnant on a place, your life will also become stagnant. You need to be active both physically, mentally and overall spiritually as well. So whenever you feel like yeah I've been like 2 three days I've been not able to study well I all I have been doing is scrolling my mobile phone just stop everything keep your phone aside just go out for a walk 1 hour you just walk\\n\\nthe hands that prescribe medicines that cure very big diseases or even simply help others. So just look at your hands and visualize what these things are going to be doing in the future and you work hard only for that. When you visualize like this you keep taking into mind your future. These small small exams that you have to give along the way they stop mattering. So you have to keep the bigger picture in mind. If possible make a vision board. I always say this make a vision board. It's really essential that you do that. If possible I'll make a video about how do you make your vision board. And yes, that brings me to my next point is you connect with your peers. So let's say that you are feeling in a study slump. You call up somebody who is studying really well. You ask them a few questions that you are not able to solve. You ask them a few doubts that you are not able to uh solve properly. They will give you a lot of motivation. So if you are not feeling well, connect to your peers\",\n",
              " 'question': 'what is energy'}"
            ]
          },
          "metadata": {},
          "execution_count": 71
        }
      ]
    },
    {
      "cell_type": "code",
      "source": [
        "parser = StrOutputParser()"
      ],
      "metadata": {
        "id": "CunDNKxHDJNz"
      },
      "execution_count": null,
      "outputs": []
    },
    {
      "cell_type": "code",
      "source": [
        "main_chain = parallel_chain | prompt | llm | parser"
      ],
      "metadata": {
        "id": "D2SfpasBDMxj"
      },
      "execution_count": null,
      "outputs": []
    },
    {
      "cell_type": "code",
      "source": [
        "main_chain.invoke('is the topic of making money her , if yes tell me about it in 2 lines')"
      ],
      "metadata": {
        "colab": {
          "base_uri": "https://localhost:8080/",
          "height": 35
        },
        "id": "fRC1qf63DO3L",
        "outputId": "61036b2c-59c4-4862-d025-df248754137c"
      },
      "execution_count": null,
      "outputs": [
        {
          "output_type": "execute_result",
          "data": {
            "text/plain": [
              "'NO'"
            ],
            "application/vnd.google.colaboratory.intrinsic+json": {
              "type": "string"
            }
          },
          "metadata": {},
          "execution_count": 74
        }
      ]
    },
    {
      "cell_type": "code",
      "source": [],
      "metadata": {
        "id": "m73RMjTVDR4e"
      },
      "execution_count": null,
      "outputs": []
    }
  ]
}