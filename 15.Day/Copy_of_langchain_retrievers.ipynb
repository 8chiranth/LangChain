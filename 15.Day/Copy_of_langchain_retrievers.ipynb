{
  "cells": [
    {
      "cell_type": "code",
      "execution_count": null,
      "metadata": {
        "id": "rJu8oFs86FjF"
      },
      "outputs": [],
      "source": [
        "\n",
        "\n",
        "import os\n",
        "os.environ[\"OPENAI_API_KEY\"] = \"\""
      ]
    },
    {
      "cell_type": "code",
      "execution_count": 2,
      "metadata": {
        "colab": {
          "base_uri": "https://localhost:8080/"
        },
        "id": "defOdsii6Uow",
        "outputId": "a17b6fa8-d41c-4bdf-aeec-42c746684284"
      },
      "outputs": [
        {
          "name": "stdout",
          "output_type": "stream",
          "text": [
            "Requirement already satisfied: langchain in c:\\users\\chira\\anaconda3\\lib\\site-packages (0.3.25)"
          ]
        },
        {
          "name": "stderr",
          "output_type": "stream",
          "text": [
            "  DEPRECATION: Building 'wikipedia' using the legacy setup.py bdist_wheel mechanism, which will be removed in a future version. pip 25.3 will enforce this behaviour change. A possible replacement is to use the standardized build interface by setting the `--use-pep517` option, (possibly combined with `--no-build-isolation`), or adding a `pyproject.toml` file to the source tree of 'wikipedia'. Discussion can be found at https://github.com/pypa/pip/issues/6334\n",
            "ERROR: pip's dependency resolver does not currently take into account all the packages that are installed. This behaviour is the source of the following dependency conflicts.\n",
            "streamlit 1.37.1 requires protobuf<6,>=3.20, but you have protobuf 6.32.0 which is incompatible.\n",
            "\n",
            "[notice] A new release of pip is available: 25.1.1 -> 25.2\n",
            "[notice] To update, run: python.exe -m pip install --upgrade pip\n"
          ]
        },
        {
          "name": "stdout",
          "output_type": "stream",
          "text": [
            "\n",
            "Collecting chromadb\n",
            "  Downloading chromadb-1.0.17-cp39-abi3-win_amd64.whl.metadata (7.4 kB)\n",
            "Collecting faiss-cpu\n",
            "  Downloading faiss_cpu-1.12.0-cp312-cp312-win_amd64.whl.metadata (5.2 kB)\n",
            "Collecting openai\n",
            "  Downloading openai-1.99.9-py3-none-any.whl.metadata (29 kB)\n",
            "Collecting tiktoken\n",
            "  Downloading tiktoken-0.11.0-cp312-cp312-win_amd64.whl.metadata (6.9 kB)\n",
            "Collecting langchain_openai\n",
            "  Downloading langchain_openai-0.3.30-py3-none-any.whl.metadata (2.4 kB)\n",
            "Requirement already satisfied: langchain-community in c:\\users\\chira\\anaconda3\\lib\\site-packages (0.3.24)\n",
            "Collecting wikipedia\n",
            "  Using cached wikipedia-1.4.0.tar.gz (27 kB)\n",
            "  Preparing metadata (setup.py): started\n",
            "  Preparing metadata (setup.py): finished with status 'done'\n",
            "Requirement already satisfied: langchain-core<1.0.0,>=0.3.58 in c:\\users\\chira\\anaconda3\\lib\\site-packages (from langchain) (0.3.62)\n",
            "Requirement already satisfied: langchain-text-splitters<1.0.0,>=0.3.8 in c:\\users\\chira\\anaconda3\\lib\\site-packages (from langchain) (0.3.8)\n",
            "Requirement already satisfied: langsmith<0.4,>=0.1.17 in c:\\users\\chira\\anaconda3\\lib\\site-packages (from langchain) (0.3.43)\n",
            "Requirement already satisfied: pydantic<3.0.0,>=2.7.4 in c:\\users\\chira\\anaconda3\\lib\\site-packages (from langchain) (2.8.2)\n",
            "Requirement already satisfied: SQLAlchemy<3,>=1.4 in c:\\users\\chira\\anaconda3\\lib\\site-packages (from langchain) (2.0.34)\n",
            "Requirement already satisfied: requests<3,>=2 in c:\\users\\chira\\anaconda3\\lib\\site-packages (from langchain) (2.32.3)\n",
            "Requirement already satisfied: PyYAML>=5.3 in c:\\users\\chira\\anaconda3\\lib\\site-packages (from langchain) (6.0.1)\n",
            "Requirement already satisfied: tenacity!=8.4.0,<10.0.0,>=8.1.0 in c:\\users\\chira\\anaconda3\\lib\\site-packages (from langchain-core<1.0.0,>=0.3.58->langchain) (8.2.3)\n",
            "Requirement already satisfied: jsonpatch<2.0,>=1.33 in c:\\users\\chira\\anaconda3\\lib\\site-packages (from langchain-core<1.0.0,>=0.3.58->langchain) (1.33)\n",
            "Requirement already satisfied: packaging<25,>=23.2 in c:\\users\\chira\\anaconda3\\lib\\site-packages (from langchain-core<1.0.0,>=0.3.58->langchain) (24.1)\n",
            "Requirement already satisfied: typing-extensions>=4.7 in c:\\users\\chira\\anaconda3\\lib\\site-packages (from langchain-core<1.0.0,>=0.3.58->langchain) (4.14.0)\n",
            "Requirement already satisfied: jsonpointer>=1.9 in c:\\users\\chira\\anaconda3\\lib\\site-packages (from jsonpatch<2.0,>=1.33->langchain-core<1.0.0,>=0.3.58->langchain) (2.1)\n",
            "Requirement already satisfied: httpx<1,>=0.23.0 in c:\\users\\chira\\anaconda3\\lib\\site-packages (from langsmith<0.4,>=0.1.17->langchain) (0.27.0)\n",
            "Requirement already satisfied: orjson<4.0.0,>=3.9.14 in c:\\users\\chira\\anaconda3\\lib\\site-packages (from langsmith<0.4,>=0.1.17->langchain) (3.10.18)\n",
            "Requirement already satisfied: requests-toolbelt<2.0.0,>=1.0.0 in c:\\users\\chira\\anaconda3\\lib\\site-packages (from langsmith<0.4,>=0.1.17->langchain) (1.0.0)\n",
            "Requirement already satisfied: zstandard<0.24.0,>=0.23.0 in c:\\users\\chira\\anaconda3\\lib\\site-packages (from langsmith<0.4,>=0.1.17->langchain) (0.23.0)\n",
            "Requirement already satisfied: anyio in c:\\users\\chira\\anaconda3\\lib\\site-packages (from httpx<1,>=0.23.0->langsmith<0.4,>=0.1.17->langchain) (4.2.0)\n",
            "Requirement already satisfied: certifi in c:\\users\\chira\\anaconda3\\lib\\site-packages (from httpx<1,>=0.23.0->langsmith<0.4,>=0.1.17->langchain) (2024.8.30)\n",
            "Requirement already satisfied: httpcore==1.* in c:\\users\\chira\\anaconda3\\lib\\site-packages (from httpx<1,>=0.23.0->langsmith<0.4,>=0.1.17->langchain) (1.0.2)\n",
            "Requirement already satisfied: idna in c:\\users\\chira\\anaconda3\\lib\\site-packages (from httpx<1,>=0.23.0->langsmith<0.4,>=0.1.17->langchain) (3.7)\n",
            "Requirement already satisfied: sniffio in c:\\users\\chira\\anaconda3\\lib\\site-packages (from httpx<1,>=0.23.0->langsmith<0.4,>=0.1.17->langchain) (1.3.0)\n",
            "Requirement already satisfied: h11<0.15,>=0.13 in c:\\users\\chira\\anaconda3\\lib\\site-packages (from httpcore==1.*->httpx<1,>=0.23.0->langsmith<0.4,>=0.1.17->langchain) (0.14.0)\n",
            "Requirement already satisfied: annotated-types>=0.4.0 in c:\\users\\chira\\anaconda3\\lib\\site-packages (from pydantic<3.0.0,>=2.7.4->langchain) (0.6.0)\n",
            "Requirement already satisfied: pydantic-core==2.20.1 in c:\\users\\chira\\anaconda3\\lib\\site-packages (from pydantic<3.0.0,>=2.7.4->langchain) (2.20.1)\n",
            "Requirement already satisfied: charset-normalizer<4,>=2 in c:\\users\\chira\\anaconda3\\lib\\site-packages (from requests<3,>=2->langchain) (3.3.2)\n",
            "Requirement already satisfied: urllib3<3,>=1.21.1 in c:\\users\\chira\\anaconda3\\lib\\site-packages (from requests<3,>=2->langchain) (2.2.3)\n",
            "Requirement already satisfied: greenlet!=0.4.17 in c:\\users\\chira\\anaconda3\\lib\\site-packages (from SQLAlchemy<3,>=1.4->langchain) (3.0.1)\n",
            "Collecting build>=1.0.3 (from chromadb)\n",
            "  Downloading build-1.3.0-py3-none-any.whl.metadata (5.6 kB)\n",
            "Collecting pybase64>=1.4.1 (from chromadb)\n",
            "  Downloading pybase64-1.4.2-cp312-cp312-win_amd64.whl.metadata (9.0 kB)\n",
            "Collecting uvicorn>=0.18.3 (from uvicorn[standard]>=0.18.3->chromadb)\n",
            "  Using cached uvicorn-0.35.0-py3-none-any.whl.metadata (6.5 kB)\n",
            "Requirement already satisfied: numpy>=1.22.5 in c:\\users\\chira\\anaconda3\\lib\\site-packages (from chromadb) (2.3.1)\n",
            "Collecting posthog<6.0.0,>=2.4.0 (from chromadb)\n",
            "  Downloading posthog-5.4.0-py3-none-any.whl.metadata (5.7 kB)\n",
            "Collecting onnxruntime>=1.14.1 (from chromadb)\n",
            "  Downloading onnxruntime-1.22.1-cp312-cp312-win_amd64.whl.metadata (5.1 kB)\n",
            "Collecting opentelemetry-api>=1.2.0 (from chromadb)\n",
            "  Downloading opentelemetry_api-1.36.0-py3-none-any.whl.metadata (1.5 kB)\n",
            "Collecting opentelemetry-exporter-otlp-proto-grpc>=1.2.0 (from chromadb)\n",
            "  Downloading opentelemetry_exporter_otlp_proto_grpc-1.36.0-py3-none-any.whl.metadata (2.4 kB)\n",
            "Collecting opentelemetry-sdk>=1.2.0 (from chromadb)\n",
            "  Downloading opentelemetry_sdk-1.36.0-py3-none-any.whl.metadata (1.5 kB)\n",
            "Requirement already satisfied: tokenizers>=0.13.2 in c:\\users\\chira\\anaconda3\\lib\\site-packages (from chromadb) (0.21.1)\n",
            "Collecting pypika>=0.48.9 (from chromadb)\n",
            "  Downloading PyPika-0.48.9.tar.gz (67 kB)\n",
            "  Installing build dependencies: started\n",
            "  Installing build dependencies: finished with status 'done'\n",
            "  Getting requirements to build wheel: started\n",
            "  Getting requirements to build wheel: finished with status 'done'\n",
            "  Preparing metadata (pyproject.toml): started\n",
            "  Preparing metadata (pyproject.toml): finished with status 'done'\n",
            "Requirement already satisfied: tqdm>=4.65.0 in c:\\users\\chira\\anaconda3\\lib\\site-packages (from chromadb) (4.66.5)\n",
            "Requirement already satisfied: overrides>=7.3.1 in c:\\users\\chira\\anaconda3\\lib\\site-packages (from chromadb) (7.4.0)\n",
            "Collecting importlib-resources (from chromadb)\n",
            "  Downloading importlib_resources-6.5.2-py3-none-any.whl.metadata (3.9 kB)\n",
            "Collecting grpcio>=1.58.0 (from chromadb)\n",
            "  Downloading grpcio-1.74.0-cp312-cp312-win_amd64.whl.metadata (4.0 kB)\n",
            "Collecting bcrypt>=4.0.1 (from chromadb)\n",
            "  Downloading bcrypt-4.3.0-cp39-abi3-win_amd64.whl.metadata (10 kB)\n",
            "Requirement already satisfied: typer>=0.9.0 in c:\\users\\chira\\anaconda3\\lib\\site-packages (from chromadb) (0.16.0)\n",
            "Collecting kubernetes>=28.1.0 (from chromadb)\n",
            "  Downloading kubernetes-33.1.0-py2.py3-none-any.whl.metadata (1.7 kB)\n",
            "Collecting mmh3>=4.0.1 (from chromadb)\n",
            "  Downloading mmh3-5.2.0-cp312-cp312-win_amd64.whl.metadata (14 kB)\n",
            "Requirement already satisfied: rich>=10.11.0 in c:\\users\\chira\\anaconda3\\lib\\site-packages (from chromadb) (13.7.1)\n",
            "Requirement already satisfied: jsonschema>=4.19.0 in c:\\users\\chira\\anaconda3\\lib\\site-packages (from chromadb) (4.23.0)\n",
            "Requirement already satisfied: six>=1.5 in c:\\users\\chira\\anaconda3\\lib\\site-packages (from posthog<6.0.0,>=2.4.0->chromadb) (1.16.0)\n",
            "Requirement already satisfied: python-dateutil>=2.2 in c:\\users\\chira\\anaconda3\\lib\\site-packages (from posthog<6.0.0,>=2.4.0->chromadb) (2.9.0.post0)\n",
            "Collecting backoff>=1.10.0 (from posthog<6.0.0,>=2.4.0->chromadb)\n",
            "  Downloading backoff-2.2.1-py3-none-any.whl.metadata (14 kB)\n",
            "Requirement already satisfied: distro>=1.5.0 in c:\\users\\chira\\anaconda3\\lib\\site-packages (from posthog<6.0.0,>=2.4.0->chromadb) (1.9.0)\n",
            "Collecting jiter<1,>=0.4.0 (from openai)\n",
            "  Downloading jiter-0.10.0-cp312-cp312-win_amd64.whl.metadata (5.3 kB)\n",
            "Requirement already satisfied: regex>=2022.1.18 in c:\\users\\chira\\anaconda3\\lib\\site-packages (from tiktoken) (2024.9.11)\n",
            "Collecting langchain-core<1.0.0,>=0.3.58 (from langchain)\n",
            "  Using cached langchain_core-0.3.74-py3-none-any.whl.metadata (5.8 kB)\n",
            "Collecting langsmith<0.4,>=0.1.17 (from langchain)\n",
            "  Downloading langsmith-0.3.45-py3-none-any.whl.metadata (15 kB)\n",
            "Requirement already satisfied: aiohttp<4.0.0,>=3.8.3 in c:\\users\\chira\\anaconda3\\lib\\site-packages (from langchain-community) (3.10.5)\n",
            "Requirement already satisfied: dataclasses-json<0.7,>=0.5.7 in c:\\users\\chira\\anaconda3\\lib\\site-packages (from langchain-community) (0.6.7)\n",
            "Requirement already satisfied: pydantic-settings<3.0.0,>=2.4.0 in c:\\users\\chira\\anaconda3\\lib\\site-packages (from langchain-community) (2.9.1)\n",
            "Requirement already satisfied: httpx-sse<1.0.0,>=0.4.0 in c:\\users\\chira\\anaconda3\\lib\\site-packages (from langchain-community) (0.4.0)\n",
            "Requirement already satisfied: aiohappyeyeballs>=2.3.0 in c:\\users\\chira\\anaconda3\\lib\\site-packages (from aiohttp<4.0.0,>=3.8.3->langchain-community) (2.4.0)\n",
            "Requirement already satisfied: aiosignal>=1.1.2 in c:\\users\\chira\\anaconda3\\lib\\site-packages (from aiohttp<4.0.0,>=3.8.3->langchain-community) (1.2.0)\n",
            "Requirement already satisfied: attrs>=17.3.0 in c:\\users\\chira\\anaconda3\\lib\\site-packages (from aiohttp<4.0.0,>=3.8.3->langchain-community) (23.1.0)\n",
            "Requirement already satisfied: frozenlist>=1.1.1 in c:\\users\\chira\\anaconda3\\lib\\site-packages (from aiohttp<4.0.0,>=3.8.3->langchain-community) (1.4.0)\n",
            "Requirement already satisfied: multidict<7.0,>=4.5 in c:\\users\\chira\\anaconda3\\lib\\site-packages (from aiohttp<4.0.0,>=3.8.3->langchain-community) (6.0.4)\n",
            "Requirement already satisfied: yarl<2.0,>=1.0 in c:\\users\\chira\\anaconda3\\lib\\site-packages (from aiohttp<4.0.0,>=3.8.3->langchain-community) (1.11.0)\n",
            "Requirement already satisfied: marshmallow<4.0.0,>=3.18.0 in c:\\users\\chira\\anaconda3\\lib\\site-packages (from dataclasses-json<0.7,>=0.5.7->langchain-community) (3.26.1)\n",
            "Requirement already satisfied: typing-inspect<1,>=0.4.0 in c:\\users\\chira\\anaconda3\\lib\\site-packages (from dataclasses-json<0.7,>=0.5.7->langchain-community) (0.9.0)\n",
            "Requirement already satisfied: python-dotenv>=0.21.0 in c:\\users\\chira\\anaconda3\\lib\\site-packages (from pydantic-settings<3.0.0,>=2.4.0->langchain-community) (0.21.0)\n",
            "Requirement already satisfied: typing-inspection>=0.4.0 in c:\\users\\chira\\anaconda3\\lib\\site-packages (from pydantic-settings<3.0.0,>=2.4.0->langchain-community) (0.4.1)\n",
            "Requirement already satisfied: mypy-extensions>=0.3.0 in c:\\users\\chira\\anaconda3\\lib\\site-packages (from typing-inspect<1,>=0.4.0->dataclasses-json<0.7,>=0.5.7->langchain-community) (1.0.0)\n",
            "Requirement already satisfied: beautifulsoup4 in c:\\users\\chira\\anaconda3\\lib\\site-packages (from wikipedia) (4.12.3)\n",
            "Collecting pyproject_hooks (from build>=1.0.3->chromadb)\n",
            "  Downloading pyproject_hooks-1.2.0-py3-none-any.whl.metadata (1.3 kB)\n",
            "Requirement already satisfied: colorama in c:\\users\\chira\\anaconda3\\lib\\site-packages (from build>=1.0.3->chromadb) (0.4.6)\n",
            "Requirement already satisfied: jsonschema-specifications>=2023.03.6 in c:\\users\\chira\\anaconda3\\lib\\site-packages (from jsonschema>=4.19.0->chromadb) (2023.7.1)\n",
            "Requirement already satisfied: referencing>=0.28.4 in c:\\users\\chira\\anaconda3\\lib\\site-packages (from jsonschema>=4.19.0->chromadb) (0.30.2)\n",
            "Requirement already satisfied: rpds-py>=0.7.1 in c:\\users\\chira\\anaconda3\\lib\\site-packages (from jsonschema>=4.19.0->chromadb) (0.10.6)\n",
            "Collecting google-auth>=1.0.1 (from kubernetes>=28.1.0->chromadb)\n",
            "  Using cached google_auth-2.40.3-py2.py3-none-any.whl.metadata (6.2 kB)\n",
            "Requirement already satisfied: websocket-client!=0.40.0,!=0.41.*,!=0.42.*,>=0.32.0 in c:\\users\\chira\\anaconda3\\lib\\site-packages (from kubernetes>=28.1.0->chromadb) (1.8.0)\n",
            "Collecting requests-oauthlib (from kubernetes>=28.1.0->chromadb)\n",
            "  Downloading requests_oauthlib-2.0.0-py2.py3-none-any.whl.metadata (11 kB)\n",
            "Collecting oauthlib>=3.2.2 (from kubernetes>=28.1.0->chromadb)\n",
            "  Downloading oauthlib-3.3.1-py3-none-any.whl.metadata (7.9 kB)\n",
            "Collecting durationpy>=0.7 (from kubernetes>=28.1.0->chromadb)\n",
            "  Downloading durationpy-0.10-py3-none-any.whl.metadata (340 bytes)\n",
            "Requirement already satisfied: cachetools<6.0,>=2.0.0 in c:\\users\\chira\\anaconda3\\lib\\site-packages (from google-auth>=1.0.1->kubernetes>=28.1.0->chromadb) (5.3.3)\n",
            "Requirement already satisfied: pyasn1-modules>=0.2.1 in c:\\users\\chira\\anaconda3\\lib\\site-packages (from google-auth>=1.0.1->kubernetes>=28.1.0->chromadb) (0.2.8)\n",
            "Collecting rsa<5,>=3.1.4 (from google-auth>=1.0.1->kubernetes>=28.1.0->chromadb)\n",
            "  Using cached rsa-4.9.1-py3-none-any.whl.metadata (5.6 kB)\n",
            "Requirement already satisfied: pyasn1>=0.1.3 in c:\\users\\chira\\anaconda3\\lib\\site-packages (from rsa<5,>=3.1.4->google-auth>=1.0.1->kubernetes>=28.1.0->chromadb) (0.4.8)\n",
            "Collecting coloredlogs (from onnxruntime>=1.14.1->chromadb)\n",
            "  Downloading coloredlogs-15.0.1-py2.py3-none-any.whl.metadata (12 kB)\n",
            "Collecting flatbuffers (from onnxruntime>=1.14.1->chromadb)\n",
            "  Using cached flatbuffers-25.2.10-py2.py3-none-any.whl.metadata (875 bytes)\n",
            "Requirement already satisfied: protobuf in c:\\users\\chira\\anaconda3\\lib\\site-packages (from onnxruntime>=1.14.1->chromadb) (4.25.3)\n",
            "Requirement already satisfied: sympy in c:\\users\\chira\\anaconda3\\lib\\site-packages (from onnxruntime>=1.14.1->chromadb) (1.14.0)\n",
            "Requirement already satisfied: importlib-metadata<8.8.0,>=6.0 in c:\\users\\chira\\anaconda3\\lib\\site-packages (from opentelemetry-api>=1.2.0->chromadb) (7.0.1)\n",
            "Requirement already satisfied: zipp>=0.5 in c:\\users\\chira\\anaconda3\\lib\\site-packages (from importlib-metadata<8.8.0,>=6.0->opentelemetry-api>=1.2.0->chromadb) (3.17.0)\n",
            "Collecting googleapis-common-protos~=1.57 (from opentelemetry-exporter-otlp-proto-grpc>=1.2.0->chromadb)\n",
            "  Using cached googleapis_common_protos-1.70.0-py3-none-any.whl.metadata (9.3 kB)\n",
            "Collecting opentelemetry-exporter-otlp-proto-common==1.36.0 (from opentelemetry-exporter-otlp-proto-grpc>=1.2.0->chromadb)\n",
            "  Downloading opentelemetry_exporter_otlp_proto_common-1.36.0-py3-none-any.whl.metadata (1.8 kB)\n",
            "Collecting opentelemetry-proto==1.36.0 (from opentelemetry-exporter-otlp-proto-grpc>=1.2.0->chromadb)\n",
            "  Downloading opentelemetry_proto-1.36.0-py3-none-any.whl.metadata (2.3 kB)\n",
            "Collecting protobuf (from onnxruntime>=1.14.1->chromadb)\n",
            "  Downloading protobuf-6.32.0-cp310-abi3-win_amd64.whl.metadata (593 bytes)\n",
            "Collecting opentelemetry-semantic-conventions==0.57b0 (from opentelemetry-sdk>=1.2.0->chromadb)\n",
            "  Downloading opentelemetry_semantic_conventions-0.57b0-py3-none-any.whl.metadata (2.4 kB)\n",
            "Requirement already satisfied: markdown-it-py>=2.2.0 in c:\\users\\chira\\anaconda3\\lib\\site-packages (from rich>=10.11.0->chromadb) (2.2.0)\n",
            "Requirement already satisfied: pygments<3.0.0,>=2.13.0 in c:\\users\\chira\\anaconda3\\lib\\site-packages (from rich>=10.11.0->chromadb) (2.15.1)\n",
            "Requirement already satisfied: mdurl~=0.1 in c:\\users\\chira\\anaconda3\\lib\\site-packages (from markdown-it-py>=2.2.0->rich>=10.11.0->chromadb) (0.1.0)\n",
            "Requirement already satisfied: huggingface-hub<1.0,>=0.16.4 in c:\\users\\chira\\anaconda3\\lib\\site-packages (from tokenizers>=0.13.2->chromadb) (0.32.2)\n",
            "Requirement already satisfied: filelock in c:\\users\\chira\\anaconda3\\lib\\site-packages (from huggingface-hub<1.0,>=0.16.4->tokenizers>=0.13.2->chromadb) (3.13.1)\n",
            "Requirement already satisfied: fsspec>=2023.5.0 in c:\\users\\chira\\anaconda3\\lib\\site-packages (from huggingface-hub<1.0,>=0.16.4->tokenizers>=0.13.2->chromadb) (2024.6.1)\n",
            "Requirement already satisfied: click>=8.0.0 in c:\\users\\chira\\anaconda3\\lib\\site-packages (from typer>=0.9.0->chromadb) (8.1.7)\n",
            "Requirement already satisfied: shellingham>=1.3.0 in c:\\users\\chira\\anaconda3\\lib\\site-packages (from typer>=0.9.0->chromadb) (1.5.4)\n",
            "Collecting httptools>=0.6.3 (from uvicorn[standard]>=0.18.3->chromadb)\n",
            "  Downloading httptools-0.6.4-cp312-cp312-win_amd64.whl.metadata (3.7 kB)\n",
            "Collecting watchfiles>=0.13 (from uvicorn[standard]>=0.18.3->chromadb)\n",
            "  Downloading watchfiles-1.1.0-cp312-cp312-win_amd64.whl.metadata (5.0 kB)\n",
            "Collecting websockets>=10.4 (from uvicorn[standard]>=0.18.3->chromadb)\n",
            "  Downloading websockets-15.0.1-cp312-cp312-win_amd64.whl.metadata (7.0 kB)\n",
            "Requirement already satisfied: soupsieve>1.2 in c:\\users\\chira\\anaconda3\\lib\\site-packages (from beautifulsoup4->wikipedia) (2.5)\n",
            "Collecting humanfriendly>=9.1 (from coloredlogs->onnxruntime>=1.14.1->chromadb)\n",
            "  Downloading humanfriendly-10.0-py2.py3-none-any.whl.metadata (9.2 kB)\n",
            "Collecting pyreadline3 (from humanfriendly>=9.1->coloredlogs->onnxruntime>=1.14.1->chromadb)\n",
            "  Downloading pyreadline3-3.5.4-py3-none-any.whl.metadata (4.7 kB)\n",
            "Requirement already satisfied: mpmath<1.4,>=1.1.0 in c:\\users\\chira\\anaconda3\\lib\\site-packages (from sympy->onnxruntime>=1.14.1->chromadb) (1.3.0)\n",
            "Downloading chromadb-1.0.17-cp39-abi3-win_amd64.whl (19.8 MB)\n",
            "   ---------------------------------------- 0.0/19.8 MB ? eta -:--:--\n",
            "    --------------------------------------- 0.3/19.8 MB ? eta -:--:--\n",
            "   - -------------------------------------- 0.5/19.8 MB 2.8 MB/s eta 0:00:07\n",
            "   -- ------------------------------------- 1.0/19.8 MB 1.7 MB/s eta 0:00:11\n",
            "   -- ------------------------------------- 1.3/19.8 MB 1.6 MB/s eta 0:00:12\n",
            "   --- ------------------------------------ 1.6/19.8 MB 1.6 MB/s eta 0:00:12\n",
            "   ---- ----------------------------------- 2.1/19.8 MB 1.8 MB/s eta 0:00:11\n",
            "   ---- ----------------------------------- 2.4/19.8 MB 1.7 MB/s eta 0:00:11\n",
            "   ----- ---------------------------------- 2.6/19.8 MB 1.6 MB/s eta 0:00:11\n",
            "   ------ --------------------------------- 3.1/19.8 MB 1.7 MB/s eta 0:00:10\n",
            "   ------ --------------------------------- 3.4/19.8 MB 1.7 MB/s eta 0:00:10\n",
            "   ------- -------------------------------- 3.9/19.8 MB 1.7 MB/s eta 0:00:10\n",
            "   --------- ------------------------------ 4.5/19.8 MB 1.8 MB/s eta 0:00:09\n",
            "   ---------- ----------------------------- 5.0/19.8 MB 1.9 MB/s eta 0:00:08\n",
            "   ----------- ---------------------------- 5.8/19.8 MB 2.0 MB/s eta 0:00:08\n",
            "   ------------ --------------------------- 6.0/19.8 MB 2.0 MB/s eta 0:00:07\n",
            "   ------------- -------------------------- 6.6/19.8 MB 1.9 MB/s eta 0:00:07\n",
            "   ------------- -------------------------- 6.8/19.8 MB 1.9 MB/s eta 0:00:07\n",
            "   -------------- ------------------------- 7.3/19.8 MB 2.0 MB/s eta 0:00:07\n",
            "   --------------- ------------------------ 7.9/19.8 MB 2.0 MB/s eta 0:00:06\n",
            "   ---------------- ----------------------- 8.1/19.8 MB 1.9 MB/s eta 0:00:06\n",
            "   ---------------- ----------------------- 8.1/19.8 MB 1.9 MB/s eta 0:00:06\n",
            "   ---------------- ----------------------- 8.4/19.8 MB 1.8 MB/s eta 0:00:07\n",
            "   ---------------- ----------------------- 8.4/19.8 MB 1.8 MB/s eta 0:00:07\n",
            "   ------------------ --------------------- 8.9/19.8 MB 1.8 MB/s eta 0:00:07\n",
            "   ------------------ --------------------- 9.2/19.8 MB 1.8 MB/s eta 0:00:07\n",
            "   ------------------- -------------------- 9.4/19.8 MB 1.7 MB/s eta 0:00:07\n",
            "   ------------------- -------------------- 9.4/19.8 MB 1.7 MB/s eta 0:00:07\n",
            "   ------------------- -------------------- 9.7/19.8 MB 1.7 MB/s eta 0:00:06\n",
            "   -------------------- ------------------- 10.0/19.8 MB 1.6 MB/s eta 0:00:07\n",
            "   -------------------- ------------------- 10.0/19.8 MB 1.6 MB/s eta 0:00:07\n",
            "   --------------------- ------------------ 10.5/19.8 MB 1.6 MB/s eta 0:00:06\n",
            "   ---------------------- ----------------- 11.0/19.8 MB 1.6 MB/s eta 0:00:06\n",
            "   ----------------------- ---------------- 11.8/19.8 MB 1.7 MB/s eta 0:00:05\n",
            "   ------------------------ --------------- 12.3/19.8 MB 1.8 MB/s eta 0:00:05\n",
            "   ------------------------- -------------- 12.8/19.8 MB 1.7 MB/s eta 0:00:04\n",
            "   --------------------------- ------------ 13.6/19.8 MB 1.8 MB/s eta 0:00:04\n",
            "   ----------------------------- ---------- 14.4/19.8 MB 1.9 MB/s eta 0:00:03\n",
            "   ----------------------------- ---------- 14.7/19.8 MB 1.9 MB/s eta 0:00:03\n",
            "   ------------------------------- -------- 15.5/19.8 MB 1.9 MB/s eta 0:00:03\n",
            "   -------------------------------- ------- 16.3/19.8 MB 1.9 MB/s eta 0:00:02\n",
            "   --------------------------------- ------ 16.5/19.8 MB 2.0 MB/s eta 0:00:02\n",
            "   ----------------------------------- ---- 17.3/19.8 MB 2.0 MB/s eta 0:00:02\n",
            "   ------------------------------------ --- 18.1/19.8 MB 2.0 MB/s eta 0:00:01\n",
            "   -------------------------------------- - 18.9/19.8 MB 2.1 MB/s eta 0:00:01\n",
            "   ---------------------------------------  19.4/19.8 MB 2.1 MB/s eta 0:00:01\n",
            "   ---------------------------------------- 19.8/19.8 MB 2.1 MB/s eta 0:00:00\n",
            "Downloading posthog-5.4.0-py3-none-any.whl (105 kB)\n",
            "Downloading faiss_cpu-1.12.0-cp312-cp312-win_amd64.whl (18.2 MB)\n",
            "   ---------------------------------------- 0.0/18.2 MB ? eta -:--:--\n",
            "    --------------------------------------- 0.3/18.2 MB ? eta -:--:--\n",
            "   - -------------------------------------- 0.5/18.2 MB 1.2 MB/s eta 0:00:15\n",
            "   -- ------------------------------------- 1.3/18.2 MB 2.2 MB/s eta 0:00:08\n",
            "   ---- ----------------------------------- 2.1/18.2 MB 2.8 MB/s eta 0:00:06\n",
            "   ----- ---------------------------------- 2.4/18.2 MB 2.5 MB/s eta 0:00:07\n",
            "   ------- -------------------------------- 3.4/18.2 MB 2.9 MB/s eta 0:00:06\n",
            "   --------- ------------------------------ 4.2/18.2 MB 3.1 MB/s eta 0:00:05\n",
            "   ---------- ----------------------------- 5.0/18.2 MB 3.2 MB/s eta 0:00:05\n",
            "   ----------- ---------------------------- 5.2/18.2 MB 3.0 MB/s eta 0:00:05\n",
            "   ------------- -------------------------- 6.3/18.2 MB 3.1 MB/s eta 0:00:04\n",
            "   --------------- ------------------------ 6.8/18.2 MB 3.0 MB/s eta 0:00:04\n",
            "   --------------- ------------------------ 7.1/18.2 MB 3.0 MB/s eta 0:00:04\n",
            "   ---------------- ----------------------- 7.3/18.2 MB 2.8 MB/s eta 0:00:04\n",
            "   ----------------- ---------------------- 7.9/18.2 MB 2.7 MB/s eta 0:00:04\n",
            "   ----------------- ---------------------- 8.1/18.2 MB 2.7 MB/s eta 0:00:04\n",
            "   ------------------- -------------------- 8.9/18.2 MB 2.7 MB/s eta 0:00:04\n",
            "   -------------------- ------------------- 9.2/18.2 MB 2.7 MB/s eta 0:00:04\n",
            "   --------------------- ------------------ 9.7/18.2 MB 2.6 MB/s eta 0:00:04\n",
            "   ----------------------- ---------------- 10.5/18.2 MB 2.7 MB/s eta 0:00:03\n",
            "   ----------------------- ---------------- 10.7/18.2 MB 2.6 MB/s eta 0:00:03\n",
            "   ------------------------ --------------- 11.3/18.2 MB 2.6 MB/s eta 0:00:03\n",
            "   ------------------------- -------------- 11.8/18.2 MB 2.6 MB/s eta 0:00:03\n",
            "   --------------------------- ------------ 12.3/18.2 MB 2.6 MB/s eta 0:00:03\n",
            "   --------------------------- ------------ 12.6/18.2 MB 2.5 MB/s eta 0:00:03\n",
            "   ----------------------------- ---------- 13.4/18.2 MB 2.6 MB/s eta 0:00:02\n",
            "   ------------------------------ --------- 13.6/18.2 MB 2.6 MB/s eta 0:00:02\n",
            "   ------------------------------ --------- 13.9/18.2 MB 2.5 MB/s eta 0:00:02\n",
            "   -------------------------------- ------- 14.7/18.2 MB 2.5 MB/s eta 0:00:02\n",
            "   -------------------------------- ------- 14.9/18.2 MB 2.5 MB/s eta 0:00:02\n",
            "   --------------------------------- ------ 15.2/18.2 MB 2.5 MB/s eta 0:00:02\n",
            "   ---------------------------------- ----- 15.7/18.2 MB 2.5 MB/s eta 0:00:01\n",
            "   ----------------------------------- ---- 16.0/18.2 MB 2.5 MB/s eta 0:00:01\n",
            "   ------------------------------------ --- 16.5/18.2 MB 2.4 MB/s eta 0:00:01\n",
            "   ------------------------------------ --- 16.8/18.2 MB 2.4 MB/s eta 0:00:01\n",
            "   -------------------------------------- - 17.6/18.2 MB 2.4 MB/s eta 0:00:01\n",
            "   ---------------------------------------  17.8/18.2 MB 2.4 MB/s eta 0:00:01\n",
            "   ---------------------------------------- 18.2/18.2 MB 2.4 MB/s eta 0:00:00\n",
            "Downloading openai-1.99.9-py3-none-any.whl (786 kB)\n",
            "   ---------------------------------------- 0.0/786.8 kB ? eta -:--:--\n",
            "   -------------------------- ------------- 524.3/786.8 kB 3.4 MB/s eta 0:00:01\n",
            "   -------------------------- ------------- 524.3/786.8 kB 3.4 MB/s eta 0:00:01\n",
            "   ---------------------------------------- 786.8/786.8 kB 1.6 MB/s eta 0:00:00\n",
            "Downloading jiter-0.10.0-cp312-cp312-win_amd64.whl (206 kB)\n",
            "Downloading tiktoken-0.11.0-cp312-cp312-win_amd64.whl (884 kB)\n",
            "   ---------------------------------------- 0.0/884.3 kB ? eta -:--:--\n",
            "   ----------------------- ---------------- 524.3/884.3 kB 3.3 MB/s eta 0:00:01\n",
            "   ----------------------- ---------------- 524.3/884.3 kB 3.3 MB/s eta 0:00:01\n",
            "   ---------------------------------------- 884.3/884.3 kB 1.3 MB/s eta 0:00:00\n",
            "Downloading langchain_openai-0.3.30-py3-none-any.whl (74 kB)\n",
            "Using cached langchain_core-0.3.74-py3-none-any.whl (443 kB)\n",
            "Downloading langsmith-0.3.45-py3-none-any.whl (363 kB)\n",
            "Downloading backoff-2.2.1-py3-none-any.whl (15 kB)\n",
            "Downloading bcrypt-4.3.0-cp39-abi3-win_amd64.whl (152 kB)\n",
            "Downloading build-1.3.0-py3-none-any.whl (23 kB)\n",
            "Downloading grpcio-1.74.0-cp312-cp312-win_amd64.whl (4.5 MB)\n",
            "   ---------------------------------------- 0.0/4.5 MB ? eta -:--:--\n",
            "   -- ------------------------------------- 0.3/4.5 MB ? eta -:--:--\n",
            "   ------- -------------------------------- 0.8/4.5 MB 1.8 MB/s eta 0:00:03\n",
            "   --------- ------------------------------ 1.0/4.5 MB 1.9 MB/s eta 0:00:02\n",
            "   -------------- ------------------------- 1.6/4.5 MB 1.9 MB/s eta 0:00:02\n",
            "   -------------- ------------------------- 1.6/4.5 MB 1.9 MB/s eta 0:00:02\n",
            "   ---------------- ----------------------- 1.8/4.5 MB 1.6 MB/s eta 0:00:02\n",
            "   ------------------ --------------------- 2.1/4.5 MB 1.3 MB/s eta 0:00:02\n",
            "   --------------------- ------------------ 2.4/4.5 MB 1.4 MB/s eta 0:00:02\n",
            "   ----------------------- ---------------- 2.6/4.5 MB 1.5 MB/s eta 0:00:02\n",
            "   ----------------------- ---------------- 2.6/4.5 MB 1.5 MB/s eta 0:00:02\n",
            "   ---------------------------- ----------- 3.1/4.5 MB 1.3 MB/s eta 0:00:02\n",
            "   ---------------------------- ----------- 3.1/4.5 MB 1.3 MB/s eta 0:00:02\n",
            "   ---------------------------- ----------- 3.1/4.5 MB 1.3 MB/s eta 0:00:02\n",
            "   ------------------------------ --------- 3.4/4.5 MB 1.1 MB/s eta 0:00:01\n",
            "   ------------------------------ --------- 3.4/4.5 MB 1.1 MB/s eta 0:00:01\n",
            "   -------------------------------- ------- 3.7/4.5 MB 1.1 MB/s eta 0:00:01\n",
            "   ----------------------------------- ---- 3.9/4.5 MB 1.1 MB/s eta 0:00:01\n",
            "   ------------------------------------- -- 4.2/4.5 MB 1.1 MB/s eta 0:00:01\n",
            "   ---------------------------------------- 4.5/4.5 MB 1.1 MB/s eta 0:00:00\n",
            "Downloading kubernetes-33.1.0-py2.py3-none-any.whl (1.9 MB)\n",
            "   ---------------------------------------- 0.0/1.9 MB ? eta -:--:--\n",
            "   ---------- ----------------------------- 0.5/1.9 MB 3.4 MB/s eta 0:00:01\n",
            "   ---------------- ----------------------- 0.8/1.9 MB 2.0 MB/s eta 0:00:01\n",
            "   --------------------------- ------------ 1.3/1.9 MB 2.1 MB/s eta 0:00:01\n",
            "   -------------------------------- ------- 1.6/1.9 MB 2.0 MB/s eta 0:00:01\n",
            "   ---------------------------------------- 1.9/1.9 MB 1.9 MB/s eta 0:00:00\n",
            "Downloading durationpy-0.10-py3-none-any.whl (3.9 kB)\n",
            "Using cached google_auth-2.40.3-py2.py3-none-any.whl (216 kB)\n",
            "Using cached rsa-4.9.1-py3-none-any.whl (34 kB)\n",
            "Downloading mmh3-5.2.0-cp312-cp312-win_amd64.whl (41 kB)\n",
            "Downloading oauthlib-3.3.1-py3-none-any.whl (160 kB)\n",
            "Downloading onnxruntime-1.22.1-cp312-cp312-win_amd64.whl (12.7 MB)\n",
            "   ---------------------------------------- 0.0/12.7 MB ? eta -:--:--\n",
            "   - -------------------------------------- 0.5/12.7 MB 2.4 MB/s eta 0:00:06\n",
            "   -- ------------------------------------- 0.8/12.7 MB 2.6 MB/s eta 0:00:05\n",
            "   ---- ----------------------------------- 1.3/12.7 MB 2.2 MB/s eta 0:00:06\n",
            "   ----- ---------------------------------- 1.8/12.7 MB 2.5 MB/s eta 0:00:05\n",
            "   ------- -------------------------------- 2.4/12.7 MB 2.3 MB/s eta 0:00:05\n",
            "   -------- ------------------------------- 2.6/12.7 MB 2.1 MB/s eta 0:00:05\n",
            "   --------- ------------------------------ 2.9/12.7 MB 2.1 MB/s eta 0:00:05\n",
            "   ---------- ----------------------------- 3.4/12.7 MB 2.0 MB/s eta 0:00:05\n",
            "   ----------- ---------------------------- 3.7/12.7 MB 1.9 MB/s eta 0:00:05\n",
            "   ------------- -------------------------- 4.2/12.7 MB 2.0 MB/s eta 0:00:05\n",
            "   -------------- ------------------------- 4.5/12.7 MB 1.9 MB/s eta 0:00:05\n",
            "   -------------- ------------------------- 4.7/12.7 MB 2.0 MB/s eta 0:00:05\n",
            "   ---------------- ----------------------- 5.2/12.7 MB 2.0 MB/s eta 0:00:04\n",
            "   ------------------ --------------------- 5.8/12.7 MB 2.0 MB/s eta 0:00:04\n",
            "   ------------------- -------------------- 6.3/12.7 MB 2.0 MB/s eta 0:00:04\n",
            "   --------------------- ------------------ 6.8/12.7 MB 2.1 MB/s eta 0:00:03\n",
            "   ---------------------- ----------------- 7.1/12.7 MB 2.0 MB/s eta 0:00:03\n",
            "   ----------------------- ---------------- 7.3/12.7 MB 2.0 MB/s eta 0:00:03\n",
            "   ------------------------ --------------- 7.9/12.7 MB 2.0 MB/s eta 0:00:03\n",
            "   ------------------------ --------------- 7.9/12.7 MB 2.0 MB/s eta 0:00:03\n",
            "   ------------------------- -------------- 8.1/12.7 MB 1.9 MB/s eta 0:00:03\n",
            "   ------------------------- -------------- 8.1/12.7 MB 1.9 MB/s eta 0:00:03\n",
            "   --------------------------- ------------ 8.7/12.7 MB 1.8 MB/s eta 0:00:03\n",
            "   ------------------------------ --------- 9.7/12.7 MB 1.9 MB/s eta 0:00:02\n",
            "   --------------------------------- ------ 10.5/12.7 MB 2.0 MB/s eta 0:00:02\n",
            "   ----------------------------------- ---- 11.3/12.7 MB 2.1 MB/s eta 0:00:01\n",
            "   -------------------------------------- - 12.3/12.7 MB 2.2 MB/s eta 0:00:01\n",
            "   ---------------------------------------  12.6/12.7 MB 2.2 MB/s eta 0:00:01\n",
            "   ---------------------------------------- 12.7/12.7 MB 2.1 MB/s eta 0:00:00\n",
            "Downloading opentelemetry_api-1.36.0-py3-none-any.whl (65 kB)\n",
            "Downloading opentelemetry_exporter_otlp_proto_grpc-1.36.0-py3-none-any.whl (18 kB)\n",
            "Downloading opentelemetry_exporter_otlp_proto_common-1.36.0-py3-none-any.whl (18 kB)\n",
            "Downloading opentelemetry_proto-1.36.0-py3-none-any.whl (72 kB)\n",
            "Using cached googleapis_common_protos-1.70.0-py3-none-any.whl (294 kB)\n",
            "Downloading opentelemetry_sdk-1.36.0-py3-none-any.whl (119 kB)\n",
            "Downloading opentelemetry_semantic_conventions-0.57b0-py3-none-any.whl (201 kB)\n",
            "Downloading protobuf-6.32.0-cp310-abi3-win_amd64.whl (435 kB)\n",
            "Downloading pybase64-1.4.2-cp312-cp312-win_amd64.whl (35 kB)\n",
            "Using cached uvicorn-0.35.0-py3-none-any.whl (66 kB)\n",
            "Downloading httptools-0.6.4-cp312-cp312-win_amd64.whl (88 kB)\n",
            "Downloading watchfiles-1.1.0-cp312-cp312-win_amd64.whl (292 kB)\n",
            "Downloading websockets-15.0.1-cp312-cp312-win_amd64.whl (176 kB)\n",
            "Downloading coloredlogs-15.0.1-py2.py3-none-any.whl (46 kB)\n",
            "Downloading humanfriendly-10.0-py2.py3-none-any.whl (86 kB)\n",
            "Downloading flatbuffers-25.2.10-py2.py3-none-any.whl (30 kB)\n",
            "Downloading importlib_resources-6.5.2-py3-none-any.whl (37 kB)\n",
            "Downloading pyproject_hooks-1.2.0-py3-none-any.whl (10 kB)\n",
            "Downloading pyreadline3-3.5.4-py3-none-any.whl (83 kB)\n",
            "Downloading requests_oauthlib-2.0.0-py2.py3-none-any.whl (24 kB)\n",
            "Building wheels for collected packages: wikipedia, pypika\n",
            "  Building wheel for wikipedia (setup.py): started\n",
            "  Building wheel for wikipedia (setup.py): finished with status 'done'\n",
            "  Created wheel for wikipedia: filename=wikipedia-1.4.0-py3-none-any.whl size=11705 sha256=329366b08a7dc966f76cce3f480316ffb39378b8077e1c4cf6c29c74bf4679ee\n",
            "  Stored in directory: c:\\users\\chira\\appdata\\local\\pip\\cache\\wheels\\63\\47\\7c\\a9688349aa74d228ce0a9023229c6c0ac52ca2a40fe87679b8\n",
            "  Building wheel for pypika (pyproject.toml): started\n",
            "  Building wheel for pypika (pyproject.toml): finished with status 'done'\n",
            "  Created wheel for pypika: filename=pypika-0.48.9-py2.py3-none-any.whl size=53916 sha256=278d7654a198b2a30ab6378051b566321c92169bb2963a7c13141d6ccdf95772\n",
            "  Stored in directory: c:\\users\\chira\\appdata\\local\\pip\\cache\\wheels\\d5\\3d\\69\\8d68d249cd3de2584f226e27fd431d6344f7d70fd856ebd01b\n",
            "Successfully built wikipedia pypika\n",
            "Installing collected packages: pypika, flatbuffers, durationpy, websockets, rsa, pyreadline3, pyproject_hooks, pybase64, protobuf, oauthlib, mmh3, jiter, importlib-resources, httptools, grpcio, faiss-cpu, bcrypt, backoff, wikipedia, watchfiles, uvicorn, tiktoken, requests-oauthlib, posthog, opentelemetry-proto, opentelemetry-api, humanfriendly, googleapis-common-protos, google-auth, build, opentelemetry-semantic-conventions, opentelemetry-exporter-otlp-proto-common, openai, langsmith, kubernetes, coloredlogs, opentelemetry-sdk, onnxruntime, langchain-core, opentelemetry-exporter-otlp-proto-grpc, langchain_openai, chromadb\n",
            "\n",
            "   ----------------------------------------  0/42 [pypika]\n",
            "    ---------------------------------------  1/42 [flatbuffers]\n",
            "   -- -------------------------------------  3/42 [websockets]\n",
            "   -- -------------------------------------  3/42 [websockets]\n",
            "   ---- -----------------------------------  5/42 [pyreadline3]\n",
            "   ---- -----------------------------------  5/42 [pyreadline3]\n",
            "  Attempting uninstall: protobuf\n",
            "   ---- -----------------------------------  5/42 [pyreadline3]\n",
            "    Found existing installation: protobuf 4.25.3\n",
            "   ---- -----------------------------------  5/42 [pyreadline3]\n",
            "    Uninstalling protobuf-4.25.3:\n",
            "   ---- -----------------------------------  5/42 [pyreadline3]\n",
            "   ------- --------------------------------  8/42 [protobuf]\n",
            "   ------- --------------------------------  8/42 [protobuf]\n",
            "   ------- --------------------------------  8/42 [protobuf]\n",
            "   ------- --------------------------------  8/42 [protobuf]\n",
            "   ------- --------------------------------  8/42 [protobuf]\n",
            "   ------- --------------------------------  8/42 [protobuf]\n",
            "   ------- --------------------------------  8/42 [protobuf]\n",
            "   ------- --------------------------------  8/42 [protobuf]\n",
            "   ------- --------------------------------  8/42 [protobuf]\n",
            "   ------- --------------------------------  8/42 [protobuf]\n",
            "   ------- --------------------------------  8/42 [protobuf]\n",
            "   ------- --------------------------------  8/42 [protobuf]\n",
            "   ------- --------------------------------  8/42 [protobuf]\n",
            "   ------- --------------------------------  8/42 [protobuf]\n",
            "   ------- --------------------------------  8/42 [protobuf]\n",
            "   ------- --------------------------------  8/42 [protobuf]\n",
            "   ------- --------------------------------  8/42 [protobuf]\n",
            "   ------- --------------------------------  8/42 [protobuf]\n",
            "   ------- --------------------------------  8/42 [protobuf]\n",
            "   ------- --------------------------------  8/42 [protobuf]\n",
            "   ------- --------------------------------  8/42 [protobuf]\n",
            "   ------- --------------------------------  8/42 [protobuf]\n",
            "   ------- --------------------------------  8/42 [protobuf]\n",
            "   ------- --------------------------------  8/42 [protobuf]\n",
            "   ------- --------------------------------  8/42 [protobuf]\n",
            "   ------- --------------------------------  8/42 [protobuf]\n",
            "   ------- --------------------------------  8/42 [protobuf]\n",
            "   ------- --------------------------------  8/42 [protobuf]\n",
            "   ------- --------------------------------  8/42 [protobuf]\n",
            "   ------- --------------------------------  8/42 [protobuf]\n",
            "   ------- --------------------------------  8/42 [protobuf]\n",
            "   ------- --------------------------------  8/42 [protobuf]\n",
            "   ------- --------------------------------  8/42 [protobuf]\n",
            "   ------- --------------------------------  8/42 [protobuf]\n",
            "   ------- --------------------------------  8/42 [protobuf]\n",
            "   ------- --------------------------------  8/42 [protobuf]\n",
            "   ------- --------------------------------  8/42 [protobuf]\n",
            "   ------- --------------------------------  8/42 [protobuf]\n",
            "      Successfully uninstalled protobuf-4.25.3\n",
            "   ------- --------------------------------  8/42 [protobuf]\n",
            "   ------- --------------------------------  8/42 [protobuf]\n",
            "   ------- --------------------------------  8/42 [protobuf]\n",
            "   -------- -------------------------------  9/42 [oauthlib]\n",
            "   -------- -------------------------------  9/42 [oauthlib]\n",
            "   ----------- ---------------------------- 12/42 [importlib-resources]\n",
            "   ------------- -------------------------- 14/42 [grpcio]\n",
            "   ------------- -------------------------- 14/42 [grpcio]\n",
            "   -------------- ------------------------- 15/42 [faiss-cpu]\n",
            "   -------------- ------------------------- 15/42 [faiss-cpu]\n",
            "   -------------- ------------------------- 15/42 [faiss-cpu]\n",
            "   -------------- ------------------------- 15/42 [faiss-cpu]\n",
            "   -------------- ------------------------- 15/42 [faiss-cpu]\n",
            "  Attempting uninstall: bcrypt\n",
            "   -------------- ------------------------- 15/42 [faiss-cpu]\n",
            "    Found existing installation: bcrypt 3.2.0\n",
            "   -------------- ------------------------- 15/42 [faiss-cpu]\n",
            "    Uninstalling bcrypt-3.2.0:\n",
            "   -------------- ------------------------- 15/42 [faiss-cpu]\n",
            "      Successfully uninstalled bcrypt-3.2.0\n",
            "   -------------- ------------------------- 15/42 [faiss-cpu]\n",
            "   ------------------ --------------------- 19/42 [watchfiles]\n",
            "   ------------------- -------------------- 20/42 [uvicorn]\n",
            "   -------------------- ------------------- 22/42 [requests-oauthlib]\n",
            "   --------------------- ------------------ 23/42 [posthog]\n",
            "   ---------------------- ----------------- 24/42 [opentelemetry-proto]\n",
            "   ----------------------- ---------------- 25/42 [opentelemetry-api]\n",
            "   ------------------------- -------------- 27/42 [googleapis-common-protos]\n",
            "   ------------------------- -------------- 27/42 [googleapis-common-protos]\n",
            "   -------------------------- ------------- 28/42 [google-auth]\n",
            "   -------------------------- ------------- 28/42 [google-auth]\n",
            "   -------------------------- ------------- 28/42 [google-auth]\n",
            "   --------------------------- ------------ 29/42 [build]\n",
            "   ----------------------- --------- 30/42 [opentelemetry-semantic-conventions]\n",
            "   ----------------------- --------- 30/42 [opentelemetry-semantic-conventions]\n",
            "   ------------------------------ --------- 32/42 [openai]\n",
            "   ------------------------------ --------- 32/42 [openai]\n",
            "   ------------------------------ --------- 32/42 [openai]\n",
            "   ------------------------------ --------- 32/42 [openai]\n",
            "   ------------------------------ --------- 32/42 [openai]\n",
            "   ------------------------------ --------- 32/42 [openai]\n",
            "   ------------------------------ --------- 32/42 [openai]\n",
            "   ------------------------------ --------- 32/42 [openai]\n",
            "   ------------------------------ --------- 32/42 [openai]\n",
            "   ------------------------------ --------- 32/42 [openai]\n",
            "   ------------------------------ --------- 32/42 [openai]\n",
            "   ------------------------------ --------- 32/42 [openai]\n",
            "   ------------------------------ --------- 32/42 [openai]\n",
            "   ------------------------------ --------- 32/42 [openai]\n",
            "   ------------------------------ --------- 32/42 [openai]\n",
            "   ------------------------------ --------- 32/42 [openai]\n",
            "  Attempting uninstall: langsmith\n",
            "   ------------------------------ --------- 32/42 [openai]\n",
            "    Found existing installation: langsmith 0.3.43\n",
            "   ------------------------------ --------- 32/42 [openai]\n",
            "    Uninstalling langsmith-0.3.43:\n",
            "   ------------------------------ --------- 32/42 [openai]\n",
            "      Successfully uninstalled langsmith-0.3.43\n",
            "   ------------------------------ --------- 32/42 [openai]\n",
            "   ------------------------------- -------- 33/42 [langsmith]\n",
            "   ------------------------------- -------- 33/42 [langsmith]\n",
            "   ------------------------------- -------- 33/42 [langsmith]\n",
            "   ------------------------------- -------- 33/42 [langsmith]\n",
            "   -------------------------------- ------- 34/42 [kubernetes]\n",
            "   -------------------------------- ------- 34/42 [kubernetes]\n",
            "   -------------------------------- ------- 34/42 [kubernetes]\n",
            "   -------------------------------- ------- 34/42 [kubernetes]\n",
            "   -------------------------------- ------- 34/42 [kubernetes]\n",
            "   -------------------------------- ------- 34/42 [kubernetes]\n",
            "   -------------------------------- ------- 34/42 [kubernetes]\n",
            "   -------------------------------- ------- 34/42 [kubernetes]\n",
            "   -------------------------------- ------- 34/42 [kubernetes]\n",
            "   -------------------------------- ------- 34/42 [kubernetes]\n",
            "   -------------------------------- ------- 34/42 [kubernetes]\n",
            "   -------------------------------- ------- 34/42 [kubernetes]\n",
            "   -------------------------------- ------- 34/42 [kubernetes]\n",
            "   -------------------------------- ------- 34/42 [kubernetes]\n",
            "   -------------------------------- ------- 34/42 [kubernetes]\n",
            "   -------------------------------- ------- 34/42 [kubernetes]\n",
            "   -------------------------------- ------- 34/42 [kubernetes]\n",
            "   -------------------------------- ------- 34/42 [kubernetes]\n",
            "   -------------------------------- ------- 34/42 [kubernetes]\n",
            "   -------------------------------- ------- 34/42 [kubernetes]\n",
            "   -------------------------------- ------- 34/42 [kubernetes]\n",
            "   -------------------------------- ------- 34/42 [kubernetes]\n",
            "   -------------------------------- ------- 34/42 [kubernetes]\n",
            "   -------------------------------- ------- 34/42 [kubernetes]\n",
            "   -------------------------------- ------- 34/42 [kubernetes]\n",
            "   -------------------------------- ------- 34/42 [kubernetes]\n",
            "   -------------------------------- ------- 34/42 [kubernetes]\n",
            "   -------------------------------- ------- 34/42 [kubernetes]\n",
            "   ---------------------------------- ----- 36/42 [opentelemetry-sdk]\n",
            "   ----------------------------------- ---- 37/42 [onnxruntime]\n",
            "   ----------------------------------- ---- 37/42 [onnxruntime]\n",
            "   ----------------------------------- ---- 37/42 [onnxruntime]\n",
            "   ----------------------------------- ---- 37/42 [onnxruntime]\n",
            "   ----------------------------------- ---- 37/42 [onnxruntime]\n",
            "   ----------------------------------- ---- 37/42 [onnxruntime]\n",
            "   ----------------------------------- ---- 37/42 [onnxruntime]\n",
            "   ----------------------------------- ---- 37/42 [onnxruntime]\n",
            "   ----------------------------------- ---- 37/42 [onnxruntime]\n",
            "   ----------------------------------- ---- 37/42 [onnxruntime]\n",
            "  Attempting uninstall: langchain-core\n",
            "   ----------------------------------- ---- 37/42 [onnxruntime]\n",
            "    Found existing installation: langchain-core 0.3.62\n",
            "   ----------------------------------- ---- 37/42 [onnxruntime]\n",
            "   ------------------------------------ --- 38/42 [langchain-core]\n",
            "    Uninstalling langchain-core-0.3.62:\n",
            "   ------------------------------------ --- 38/42 [langchain-core]\n",
            "      Successfully uninstalled langchain-core-0.3.62\n",
            "   ------------------------------------ --- 38/42 [langchain-core]\n",
            "   ------------------------------------ --- 38/42 [langchain-core]\n",
            "   ------------------------------------ --- 38/42 [langchain-core]\n",
            "   ------------------------------------ --- 38/42 [langchain-core]\n",
            "   ------------------------------------ --- 38/42 [langchain-core]\n",
            "   ------------------------------------ --- 38/42 [langchain-core]\n",
            "   -------------------------------------- - 40/42 [langchain_openai]\n",
            "   ---------------------------------------  41/42 [chromadb]\n",
            "   ---------------------------------------  41/42 [chromadb]\n",
            "   ---------------------------------------  41/42 [chromadb]\n",
            "   ---------------------------------------  41/42 [chromadb]\n",
            "   ---------------------------------------  41/42 [chromadb]\n",
            "   ---------------------------------------  41/42 [chromadb]\n",
            "   ---------------------------------------  41/42 [chromadb]\n",
            "   ---------------------------------------- 42/42 [chromadb]\n",
            "\n",
            "Successfully installed backoff-2.2.1 bcrypt-4.3.0 build-1.3.0 chromadb-1.0.17 coloredlogs-15.0.1 durationpy-0.10 faiss-cpu-1.12.0 flatbuffers-25.2.10 google-auth-2.40.3 googleapis-common-protos-1.70.0 grpcio-1.74.0 httptools-0.6.4 humanfriendly-10.0 importlib-resources-6.5.2 jiter-0.10.0 kubernetes-33.1.0 langchain-core-0.3.74 langchain_openai-0.3.30 langsmith-0.3.45 mmh3-5.2.0 oauthlib-3.3.1 onnxruntime-1.22.1 openai-1.99.9 opentelemetry-api-1.36.0 opentelemetry-exporter-otlp-proto-common-1.36.0 opentelemetry-exporter-otlp-proto-grpc-1.36.0 opentelemetry-proto-1.36.0 opentelemetry-sdk-1.36.0 opentelemetry-semantic-conventions-0.57b0 posthog-5.4.0 protobuf-6.32.0 pybase64-1.4.2 pypika-0.48.9 pyproject_hooks-1.2.0 pyreadline3-3.5.4 requests-oauthlib-2.0.0 rsa-4.9.1 tiktoken-0.11.0 uvicorn-0.35.0 watchfiles-1.1.0 websockets-15.0.1 wikipedia-1.4.0\n"
          ]
        }
      ],
      "source": [
        "!pip install langchain chromadb faiss-cpu openai tiktoken langchain_openai langchain-community wikipedia"
      ]
    },
    {
      "cell_type": "markdown",
      "metadata": {
        "id": "b1Fe61XA69FR"
      },
      "source": [
        "## Wikipedia Retriever"
      ]
    },
    {
      "cell_type": "code",
      "execution_count": null,
      "metadata": {
        "id": "tVlVrUuQ6cCC"
      },
      "outputs": [],
      "source": [
        "from langchain_community.retrievers import WikipediaRetriever"
      ]
    },
    {
      "cell_type": "code",
      "execution_count": null,
      "metadata": {
        "id": "q5FUCNmX7ICr"
      },
      "outputs": [],
      "source": [
        "# Initialize the retriever (optional: set language and top_k)\n",
        "retriever = WikipediaRetriever(top_k_results=2, lang=\"en\")"
      ]
    },
    {
      "cell_type": "code",
      "execution_count": null,
      "metadata": {
        "id": "i-8sH-w67K8J"
      },
      "outputs": [],
      "source": [
        "\n",
        "# Define your query\n",
        "query = \"the geopolitical history of india and pakistan from the perspective of a chinese\"\n",
        "\n",
        "# Get relevant Wikipedia documents\n",
        "docs = retriever.invoke(query)"
      ]
    },
    {
      "cell_type": "code",
      "execution_count": null,
      "metadata": {
        "colab": {
          "base_uri": "https://localhost:8080/"
        },
        "id": "6mD3zUptQSQg",
        "outputId": "e4963f93-dce0-4d6e-c955-4499196aa0f5"
      },
      "outputs": [
        {
          "data": {
            "text/plain": [
              "[Document(metadata={'title': 'United States aid to Pakistan', 'summary': 'The United States had been providing military aid and economic assistance to Pakistan for various purposes since 1948. Recently U.S. stopped military aid to Pakistan, which was about US$2 billion per year. With U.S. military assistance suspended in 2018 and civilian aid reduced to about $300 million for 2022, Pakistani authorities have turned to other countries for help.', 'source': 'https://en.wikipedia.org/wiki/United_States_aid_to_Pakistan'}, page_content=\"The United States had been providing military aid and economic assistance to Pakistan for various purposes since 1948. Recently U.S. stopped military aid to Pakistan, which was about US$2 billion per year. With U.S. military assistance suspended in 2018 and civilian aid reduced to about $300 million for 2022, Pakistani authorities have turned to other countries for help.\\n\\n\\n== History ==\\nFrom 1947 to 1958, under civilian leadership, the United States provided Pakistan with modest economic aid and limited military assistance. During this period, Pakistan became a member of the South East Asian Treaty Organization (SEATO) and the Central Treaty Organization (CENTO), after a Mutual Defence Assistance Agreement signed in May 1954, which facilitated increased levels of both economic and military aid from the U.S.\\nIn 1958, Ayub Khan led Pakistan's first military coup, becoming Chief Martial Law Administrator (CMLA) and later President until 1969. During his tenure, the U.S. delivered substantial economic and military aid, despite Pakistan's governance by military regime, and amidst events like the Indo-Pakistani war of 1965.\\nYahya Khan succeeded Ayub in 1969, holding power during the Indo-Pakistani war of 1971 which led to the secession of East Pakistan and the formation of Bangladesh. Under Yahya, the U.S. provided adequate economic but minimal military aid.\\nCivilian governance of Zulfikar Ali Bhutto resumed from 1971 to 1977, during which the U.S. offered modest economic support and withheld military aid as Pakistan finalized its constitution, establishing a parliamentary democracy.\\nFollowing another military coup in 1977, Muhammad Zia-ul-Haq led the country. In April 1979, President Jimmy Carter halted all aid, excluding food assistance, due to Pakistan's efforts to establish a uranium enrichment facility, following Symington Amendment. Initial U.S. aid was limited, increasing significantly after geopolitical shifts such as the Soviet invasion of Afghanistan in 1979 and the fall of the Shah of Iran. U.S. sanctions imposed in April 1979 due to Pakistan's nuclear activities were lifted by the end of the year in light of these events.\\nBetween 1988 and 1999, under civilian and democratic governments, U.S. aid was low, particularly after the Soviet withdrawal from Afghanistan in 1989. The aid was suspended in the 1990s under President George H. W. Bush, who cited concerns over Pakistan's developing nuclear program. Relations between the two countries deteriorated as the U.S. implemented the Pressler Amendment. This amendment led to severe sanctions against Pakistan, exacerbating economic challenges for the country's nascent civilian government. Consequently, all forms of bilateral aid from the U.S. to Pakistan were halted. The once expansive operations of the U.S. Agency for International Development (USAID) in Pakistan, which had employed over 1,000 staff across the country, were dramatically reduced almost overnight. Further complications arose from U.S. sanctions following Pakistan's nuclear tests in 1998, which were conducted in response to similar tests by India.\\nThe return of military rule under Pervez Musharraf from 1999 to 2008 initially saw little U.S. economic or military aid. However, following the September 11, 2001 attacks, all U.S. sanctions were removed, and Pakistan, having aligned with the U.S. in the War on Terror, received substantial increases in both economic and military assistance.\\nOn June 16, 2009, the U.S. Senate Foreign Relations Committee passed the Enhanced Partnership with Pakistan Act of 2009, commonly referred to as the Kerry-Lugar Bill. The bipartisan act authorized an annual provision of $1.5 billion in U.S. aid to Pakistan, aimed at fostering enhanced bilateral relations.\\nIn 2011, the Obama administration suspended more than one-third of all military assistance, totaling approximately $800 million due to Osama bin Laden-related controversy. This reduction encompassed funds designated for military hardw\"),\n",
              " Document(metadata={'title': 'Foreign relations of Pakistan', 'summary': \"The Islamic Republic of Pakistan emerged as an independent country through the partition of India in August 1947 and was admitted as a United Nations member state in September 1947. It is currently the second-largest country within the Muslim world in terms of population, and is also the only Muslim-majority country in possession of nuclear weapons. De facto, the country shares direct land borders with India, Iran, Afghanistan, and China.\\nThe country has extensive trade relations with the European Union and with several countries globally. As of 2023, Pakistan does not recognize two other United Nations member states (Armenia and Israel) and its ties with India remain frozen since 2019.\\nFrom a geopolitical perspective, Pakistan's location is strategically important as it is situated at the crossroads of major maritime and land transit routes between the Middle East and South Asia, while also serving as a bridge between the Arabian Sea and the energy-rich regions of Central Asia. Since the partition of India, the Kashmir conflict has defined the India–Pakistan relationship: the two countries claim each other's zones of control in Kashmir, but are separated by a ceasefire boundary known as the Line of Control. Pakistan has close bilateral ties with China and the Muslim world, including Turkey, Saudi Arabia, and the Gulf Arab countries. As a part of the First World during the Cold War, Pakistan closely cooperated with the United States to combat the global influence of the Soviet Union, though this relationship later became strained over the course of the War on Terror. Pakistan is an active member of the Commonwealth of Nations, Organization of Islamic Cooperation, and the Shanghai Cooperation Organization.\\n\\n\", 'source': 'https://en.wikipedia.org/wiki/Foreign_relations_of_Pakistan'}, page_content='The Islamic Republic of Pakistan emerged as an independent country through the partition of India in August 1947 and was admitted as a United Nations member state in September 1947. It is currently the second-largest country within the Muslim world in terms of population, and is also the only Muslim-majority country in possession of nuclear weapons. De facto, the country shares direct land borders with India, Iran, Afghanistan, and China.\\nThe country has extensive trade relations with the European Union and with several countries globally. As of 2023, Pakistan does not recognize two other United Nations member states (Armenia and Israel) and its ties with India remain frozen since 2019.\\nFrom a geopolitical perspective, Pakistan\\'s location is strategically important as it is situated at the crossroads of major maritime and land transit routes between the Middle East and South Asia, while also serving as a bridge between the Arabian Sea and the energy-rich regions of Central Asia. Since the partition of India, the Kashmir conflict has defined the India–Pakistan relationship: the two countries claim each other\\'s zones of control in Kashmir, but are separated by a ceasefire boundary known as the Line of Control. Pakistan has close bilateral ties with China and the Muslim world, including Turkey, Saudi Arabia, and the Gulf Arab countries. As a part of the First World during the Cold War, Pakistan closely cooperated with the United States to combat the global influence of the Soviet Union, though this relationship later became strained over the course of the War on Terror. Pakistan is an active member of the Commonwealth of Nations, Organization of Islamic Cooperation, and the Shanghai Cooperation Organization.\\n\\n\\n== Foreign policy of Pakistan ==\\nPakistan\\'s foreign policy seeks to \\'promote the internationally recognized norms of interstate relations, i.e. respect for sovereignty and territorial integrity of all States, non-interference in the internal affairs of other State; non-aggression and peaceful settlement of disputes. Pakistan has therefore always sought to develop friendly and cordial relations with all countries of the world\\'.\\nPakistan\\'s foreign policy is meant to formalize and define its interactions with foreign nations and standardize interactions with organizations, corporations and individual citizens. Backed by the semi-agricultural and semi-industrialized economy, Pakistan is the 47th largest (nominal GDP, 2021) and 23rd largest (purchasing) economic power and 6th largest military in the world, with a defence budget of US$11.4 billion (2018) 4.0% of its GDP (2018). The Foreign Minister of Pakistan is the official charged with state-to-state diplomacy, although the Prime minister maintains an ultimate authority over foreign policy. The state foreign policy includes defining the national interest, as well as the economic interest and strategies chosen both to safeguard that and to achieve its policy goals. Following the general election held in May 2013, Tariq Fatimi and NSA Sartaj Aziz were designated as advisers to the Prime Minister on foreign and strategic policies. After the dismissal of Nawaz Sharif\\'s government in July 2017, Khawaja Muhammad Asif held the portfolio of foreign minister under the premiership of Shahid Khaqan Abbasi. After the victory of Imran Khan Niazi in the Pakistan General Elections 2018, Shah Mehmood Qureshi was named the Minister of Foreign Affairs. Subsequently, Bilawal Bhutto Zardari became foreign minister after the political crisis-a position previously held by his grandfather, Zulfikar Ali Bhutto, and Hina Rabbani Khar.\\n\\n\\n=== M A Jinnah\\'s Vision ===\\nIn 1947, Muhammad Ali Jinnah, founder of the state of Pakistan, clearly described the principles and objectives of Pakistan\\'s foreign policy in a broadcast message, which is featured prominently in a quotation on the homepage of Pakistan\\'s Ministry of Foreign Affairs website: \"The foundation of our foreign policy is friendship with all natio')]"
            ]
          },
          "execution_count": 8,
          "metadata": {},
          "output_type": "execute_result"
        }
      ],
      "source": [
        "docs"
      ]
    },
    {
      "cell_type": "code",
      "execution_count": null,
      "metadata": {
        "colab": {
          "base_uri": "https://localhost:8080/"
        },
        "id": "UH3lPwDi7Myp",
        "outputId": "156011e5-ff17-4cfc-ec82-b7621f814f6f"
      },
      "outputs": [
        {
          "name": "stdout",
          "output_type": "stream",
          "text": [
            "\n",
            "--- Result 1 ---\n",
            "Content:\n",
            "The United States had been providing military aid and economic assistance to Pakistan for various purposes since 1948. Recently U.S. stopped military aid to Pakistan, which was about US$2 billion per year. With U.S. military assistance suspended in 2018 and civilian aid reduced to about $300 million for 2022, Pakistani authorities have turned to other countries for help.\n",
            "\n",
            "\n",
            "== History ==\n",
            "From 1947 to 1958, under civilian leadership, the United States provided Pakistan with modest economic aid and limited military assistance. During this period, Pakistan became a member of the South East Asian Treaty Organization (SEATO) and the Central Treaty Organization (CENTO), after a Mutual Defence Assistance Agreement signed in May 1954, which facilitated increased levels of both economic and military aid from the U.S.\n",
            "In 1958, Ayub Khan led Pakistan's first military coup, becoming Chief Martial Law Administrator (CMLA) and later President until 1969. During his tenure, the U.S. delivered substantial economic and military aid, despite Pakistan's governance by military regime, and amidst events like the Indo-Pakistani war of 1965.\n",
            "Yahya Khan succeeded Ayub in 1969, holding power during the Indo-Pakistani war of 1971 which led to the secession of East Pakistan and the formation of Bangladesh. Under Yahya, the U.S. provided adequate economic but minimal military aid.\n",
            "Civilian governance of Zulfikar Ali Bhutto resumed from 1971 to 1977, during which the U.S. offered modest economic support and withheld military aid as Pakistan finalized its constitution, establishing a parliamentary democracy.\n",
            "Following another military coup in 1977, Muhammad Zia-ul-Haq led the country. In April 1979, President Jimmy Carter halted all aid, excluding food assistance, due to Pakistan's efforts to establish a uranium enrichment facility, following Symington Amendment. Initial U.S. aid was limited, increasing significantly after geopolitical shifts such as the Soviet invasion of Afghanistan in 1979 and the fall of the Shah of Iran. U.S. sanctions imposed in April 1979 due to Pakistan's nuclear activities were lifted by the end of the year in light of these events.\n",
            "Between 1988 and 1999, under civilian and democratic governments, U.S. aid was low, particularly after the Soviet withdrawal from Afghanistan in 1989. The aid was suspended in the 1990s under President George H. W. Bush, who cited concerns over Pakistan's developing nuclear program. Relations between the two countries deteriorated as the U.S. implemented the Pressler Amendment. This amendment led to severe sanctions against Pakistan, exacerbating economic challenges for the country's nascent civilian government. Consequently, all forms of bilateral aid from the U.S. to Pakistan were halted. The once expansive operations of the U.S. Agency for International Development (USAID) in Pakistan, which had employed over 1,000 staff across the country, were dramatically reduced almost overnight. Further complications arose from U.S. sanctions following Pakistan's nuclear tests in 1998, which were conducted in response to similar tests by India.\n",
            "The return of military rule under Pervez Musharraf from 1999 to 2008 initially saw little U.S. economic or military aid. However, following the September 11, 2001 attacks, all U.S. sanctions were removed, and Pakistan, having aligned with the U.S. in the War on Terror, received substantial increases in both economic and military assistance.\n",
            "On June 16, 2009, the U.S. Senate Foreign Relations Committee passed the Enhanced Partnership with Pakistan Act of 2009, commonly referred to as the Kerry-Lugar Bill. The bipartisan act authorized an annual provision of $1.5 billion in U.S. aid to Pakistan, aimed at fostering enhanced bilateral relations.\n",
            "In 2011, the Obama administration suspended more than one-third of all military assistance, totaling approximately $800 million due to Osama bin Laden-related controversy. This reduction encompassed funds designated for military hardw...\n",
            "\n",
            "--- Result 2 ---\n",
            "Content:\n",
            "The Islamic Republic of Pakistan emerged as an independent country through the partition of India in August 1947 and was admitted as a United Nations member state in September 1947. It is currently the second-largest country within the Muslim world in terms of population, and is also the only Muslim-majority country in possession of nuclear weapons. De facto, the country shares direct land borders with India, Iran, Afghanistan, and China.\n",
            "The country has extensive trade relations with the European Union and with several countries globally. As of 2023, Pakistan does not recognize two other United Nations member states (Armenia and Israel) and its ties with India remain frozen since 2019.\n",
            "From a geopolitical perspective, Pakistan's location is strategically important as it is situated at the crossroads of major maritime and land transit routes between the Middle East and South Asia, while also serving as a bridge between the Arabian Sea and the energy-rich regions of Central Asia. Since the partition of India, the Kashmir conflict has defined the India–Pakistan relationship: the two countries claim each other's zones of control in Kashmir, but are separated by a ceasefire boundary known as the Line of Control. Pakistan has close bilateral ties with China and the Muslim world, including Turkey, Saudi Arabia, and the Gulf Arab countries. As a part of the First World during the Cold War, Pakistan closely cooperated with the United States to combat the global influence of the Soviet Union, though this relationship later became strained over the course of the War on Terror. Pakistan is an active member of the Commonwealth of Nations, Organization of Islamic Cooperation, and the Shanghai Cooperation Organization.\n",
            "\n",
            "\n",
            "== Foreign policy of Pakistan ==\n",
            "Pakistan's foreign policy seeks to 'promote the internationally recognized norms of interstate relations, i.e. respect for sovereignty and territorial integrity of all States, non-interference in the internal affairs of other State; non-aggression and peaceful settlement of disputes. Pakistan has therefore always sought to develop friendly and cordial relations with all countries of the world'.\n",
            "Pakistan's foreign policy is meant to formalize and define its interactions with foreign nations and standardize interactions with organizations, corporations and individual citizens. Backed by the semi-agricultural and semi-industrialized economy, Pakistan is the 47th largest (nominal GDP, 2021) and 23rd largest (purchasing) economic power and 6th largest military in the world, with a defence budget of US$11.4 billion (2018) 4.0% of its GDP (2018). The Foreign Minister of Pakistan is the official charged with state-to-state diplomacy, although the Prime minister maintains an ultimate authority over foreign policy. The state foreign policy includes defining the national interest, as well as the economic interest and strategies chosen both to safeguard that and to achieve its policy goals. Following the general election held in May 2013, Tariq Fatimi and NSA Sartaj Aziz were designated as advisers to the Prime Minister on foreign and strategic policies. After the dismissal of Nawaz Sharif's government in July 2017, Khawaja Muhammad Asif held the portfolio of foreign minister under the premiership of Shahid Khaqan Abbasi. After the victory of Imran Khan Niazi in the Pakistan General Elections 2018, Shah Mehmood Qureshi was named the Minister of Foreign Affairs. Subsequently, Bilawal Bhutto Zardari became foreign minister after the political crisis-a position previously held by his grandfather, Zulfikar Ali Bhutto, and Hina Rabbani Khar.\n",
            "\n",
            "\n",
            "=== M A Jinnah's Vision ===\n",
            "In 1947, Muhammad Ali Jinnah, founder of the state of Pakistan, clearly described the principles and objectives of Pakistan's foreign policy in a broadcast message, which is featured prominently in a quotation on the homepage of Pakistan's Ministry of Foreign Affairs website: \"The foundation of our foreign policy is friendship with all natio...\n"
          ]
        }
      ],
      "source": [
        "# Print retrieved content\n",
        "for i, doc in enumerate(docs):\n",
        "    print(f\"\\n--- Result {i+1} ---\")\n",
        "    print(f\"Content:\\n{doc.page_content}...\")  # truncate for display"
      ]
    },
    {
      "cell_type": "markdown",
      "metadata": {
        "id": "Z2qt9J157djt"
      },
      "source": [
        "## Vector Store Retriever"
      ]
    },
    {
      "cell_type": "code",
      "execution_count": null,
      "metadata": {
        "id": "sUKzoti97OKc"
      },
      "outputs": [],
      "source": [
        "from langchain_community.vectorstores import Chroma\n",
        "from langchain_openai import OpenAIEmbeddings\n",
        "from langchain_core.documents import Document"
      ]
    },
    {
      "cell_type": "code",
      "execution_count": null,
      "metadata": {
        "id": "dLymTTcA7nbZ"
      },
      "outputs": [],
      "source": [
        "# Step 1: Your source documents\n",
        "documents = [\n",
        "    Document(page_content=\"LangChain helps developers build LLM applications easily.\"),\n",
        "    Document(page_content=\"Chroma is a vector database optimized for LLM-based search.\"),\n",
        "    Document(page_content=\"Embeddings convert text into high-dimensional vectors.\"),\n",
        "    Document(page_content=\"OpenAI provides powerful embedding models.\"),\n",
        "]"
      ]
    },
    {
      "cell_type": "code",
      "execution_count": null,
      "metadata": {
        "id": "B5J0HYsr7prG"
      },
      "outputs": [],
      "source": [
        "# Step 2: Initialize embedding model\n",
        "embedding_model = OpenAIEmbeddings()\n",
        "\n",
        "# Step 3: Create Chroma vector store in memory\n",
        "vectorstore = Chroma.from_documents(\n",
        "    documents=documents,\n",
        "    embedding=embedding_model,\n",
        "    collection_name=\"my_collection\"\n",
        ")"
      ]
    },
    {
      "cell_type": "code",
      "execution_count": null,
      "metadata": {
        "id": "xvSgoUYs7sLu"
      },
      "outputs": [],
      "source": [
        "# Step 4: Convert vectorstore into a retriever\n",
        "retriever = vectorstore.as_retriever(search_kwargs={\"k\": 2})"
      ]
    },
    {
      "cell_type": "code",
      "execution_count": null,
      "metadata": {
        "id": "I5l0rXl67v4N"
      },
      "outputs": [],
      "source": [
        "query = \"What is Chroma used for?\"\n",
        "results = retriever.invoke(query)"
      ]
    },
    {
      "cell_type": "code",
      "execution_count": null,
      "metadata": {
        "colab": {
          "base_uri": "https://localhost:8080/"
        },
        "id": "OMAEeCxK7yRR",
        "outputId": "7f140c90-bf2d-4d54-8988-813b74ed281b"
      },
      "outputs": [
        {
          "name": "stdout",
          "output_type": "stream",
          "text": [
            "\n",
            "--- Result 1 ---\n",
            "Chroma is a vector database optimized for LLM-based search.\n",
            "\n",
            "--- Result 2 ---\n",
            "LangChain helps developers build LLM applications easily.\n"
          ]
        }
      ],
      "source": [
        "for i, doc in enumerate(results):\n",
        "    print(f\"\\n--- Result {i+1} ---\")\n",
        "    print(doc.page_content)"
      ]
    },
    {
      "cell_type": "code",
      "execution_count": null,
      "metadata": {
        "id": "hh0zC7L6R1Zn"
      },
      "outputs": [],
      "source": [
        "results = vectorstore.similarity_search(query, k=2)"
      ]
    },
    {
      "cell_type": "code",
      "execution_count": null,
      "metadata": {
        "colab": {
          "base_uri": "https://localhost:8080/"
        },
        "id": "J7kYMau5R1sC",
        "outputId": "d7b05617-45d7-4584-d18a-a578e4a28e89"
      },
      "outputs": [
        {
          "name": "stdout",
          "output_type": "stream",
          "text": [
            "\n",
            "--- Result 1 ---\n",
            "Chroma is a vector database optimized for LLM-based search.\n",
            "\n",
            "--- Result 2 ---\n",
            "LangChain helps developers build LLM applications easily.\n"
          ]
        }
      ],
      "source": [
        "for i, doc in enumerate(results):\n",
        "    print(f\"\\n--- Result {i+1} ---\")\n",
        "    print(doc.page_content)"
      ]
    },
    {
      "cell_type": "markdown",
      "metadata": {
        "id": "zDwJT1x9A2tI"
      },
      "source": [
        "## MMR"
      ]
    },
    {
      "cell_type": "code",
      "execution_count": null,
      "metadata": {
        "id": "8uL8bET570ud"
      },
      "outputs": [],
      "source": [
        "# Sample documents\n",
        "docs = [\n",
        "    Document(page_content=\"LangChain makes it easy to work with LLMs.\"),\n",
        "    Document(page_content=\"LangChain is used to build LLM based applications.\"),\n",
        "    Document(page_content=\"Chroma is used to store and search document embeddings.\"),\n",
        "    Document(page_content=\"Embeddings are vector representations of text.\"),\n",
        "    Document(page_content=\"MMR helps you get diverse results when doing similarity search.\"),\n",
        "    Document(page_content=\"LangChain supports Chroma, FAISS, Pinecone, and more.\"),\n",
        "]"
      ]
    },
    {
      "cell_type": "code",
      "execution_count": null,
      "metadata": {
        "id": "TM7GvqKeA8ml"
      },
      "outputs": [],
      "source": [
        "from langchain_community.vectorstores import FAISS\n",
        "\n",
        "# Initialize OpenAI embeddings\n",
        "embedding_model = OpenAIEmbeddings()\n",
        "\n",
        "# Step 2: Create the FAISS vector store from documents\n",
        "vectorstore = FAISS.from_documents(\n",
        "    documents=docs,\n",
        "    embedding=embedding_model\n",
        ")"
      ]
    },
    {
      "cell_type": "code",
      "execution_count": null,
      "metadata": {
        "id": "ueDg6SApBAqt"
      },
      "outputs": [],
      "source": [
        "# Enable MMR in the retriever\n",
        "retriever = vectorstore.as_retriever(\n",
        "    search_type=\"mmr\",                   # <-- This enables MMR\n",
        "    search_kwargs={\"k\": 3, \"lambda_mult\": 0.5}  # k = top results, lambda_mult = relevance-diversity balance\n",
        ")"
      ]
    },
    {
      "cell_type": "code",
      "execution_count": null,
      "metadata": {
        "id": "52AkKNz7Chcf"
      },
      "outputs": [],
      "source": [
        "query = \"What is langchain?\"\n",
        "results = retriever.invoke(query)"
      ]
    },
    {
      "cell_type": "code",
      "execution_count": null,
      "metadata": {
        "colab": {
          "base_uri": "https://localhost:8080/"
        },
        "id": "H-HvthKyCkBL",
        "outputId": "6bec200b-9541-480f-fa94-1b8c6b3174f2"
      },
      "outputs": [
        {
          "name": "stdout",
          "output_type": "stream",
          "text": [
            "\n",
            "--- Result 1 ---\n",
            "LangChain is used to build LLM based applications.\n",
            "\n",
            "--- Result 2 ---\n",
            "Embeddings are vector representations of text.\n",
            "\n",
            "--- Result 3 ---\n",
            "LangChain supports Chroma, FAISS, Pinecone, and more.\n"
          ]
        }
      ],
      "source": [
        "for i, doc in enumerate(results):\n",
        "    print(f\"\\n--- Result {i+1} ---\")\n",
        "    print(doc.page_content)"
      ]
    },
    {
      "cell_type": "markdown",
      "metadata": {
        "id": "HFybBaL-Eu8-"
      },
      "source": [
        "## Multiquery Retriever"
      ]
    },
    {
      "cell_type": "code",
      "execution_count": null,
      "metadata": {
        "id": "Djm-59wI1J-s"
      },
      "outputs": [],
      "source": [
        "from langchain_community.vectorstores import FAISS\n",
        "from langchain_openai import OpenAIEmbeddings\n",
        "from langchain_core.documents import Document\n",
        "from langchain_openai import ChatOpenAI\n",
        "from langchain.retrievers.multi_query import MultiQueryRetriever"
      ]
    },
    {
      "cell_type": "code",
      "execution_count": null,
      "metadata": {
        "id": "Vxr_cxaJ1KQV"
      },
      "outputs": [],
      "source": [
        "# Relevant health & wellness documents\n",
        "all_docs = [\n",
        "    Document(page_content=\"Regular walking boosts heart health and can reduce symptoms of depression.\", metadata={\"source\": \"H1\"}),\n",
        "    Document(page_content=\"Consuming leafy greens and fruits helps detox the body and improve longevity.\", metadata={\"source\": \"H2\"}),\n",
        "    Document(page_content=\"Deep sleep is crucial for cellular repair and emotional regulation.\", metadata={\"source\": \"H3\"}),\n",
        "    Document(page_content=\"Mindfulness and controlled breathing lower cortisol and improve mental clarity.\", metadata={\"source\": \"H4\"}),\n",
        "    Document(page_content=\"Drinking sufficient water throughout the day helps maintain metabolism and energy.\", metadata={\"source\": \"H5\"}),\n",
        "    Document(page_content=\"The solar energy system in modern homes helps balance electricity demand.\", metadata={\"source\": \"I1\"}),\n",
        "    Document(page_content=\"Python balances readability with power, making it a popular system design language.\", metadata={\"source\": \"I2\"}),\n",
        "    Document(page_content=\"Photosynthesis enables plants to produce energy by converting sunlight.\", metadata={\"source\": \"I3\"}),\n",
        "    Document(page_content=\"The 2022 FIFA World Cup was held in Qatar and drew global energy and excitement.\", metadata={\"source\": \"I4\"}),\n",
        "    Document(page_content=\"Black holes bend spacetime and store immense gravitational energy.\", metadata={\"source\": \"I5\"}),\n",
        "]"
      ]
    },
    {
      "cell_type": "code",
      "execution_count": null,
      "metadata": {
        "id": "pq6eouD41KfF"
      },
      "outputs": [],
      "source": [
        "# Initialize OpenAI embeddings\n",
        "embedding_model = OpenAIEmbeddings()\n",
        "\n",
        "# Create FAISS vector store\n",
        "vectorstore = FAISS.from_documents(documents=all_docs, embedding=embedding_model)"
      ]
    },
    {
      "cell_type": "code",
      "execution_count": null,
      "metadata": {
        "id": "kh62ZNvD1Krv"
      },
      "outputs": [],
      "source": [
        "# Create retrievers\n",
        "similarity_retriever = vectorstore.as_retriever(search_type=\"similarity\", search_kwargs={\"k\": 5})"
      ]
    },
    {
      "cell_type": "code",
      "execution_count": null,
      "metadata": {
        "id": "vXUHDW6m1K75"
      },
      "outputs": [],
      "source": [
        "multiquery_retriever = MultiQueryRetriever.from_llm(\n",
        "    retriever=vectorstore.as_retriever(search_kwargs={\"k\": 5}),\n",
        "    llm=ChatOpenAI(model=\"gpt-3.5-turbo\")\n",
        ")"
      ]
    },
    {
      "cell_type": "code",
      "execution_count": null,
      "metadata": {
        "id": "9ybExIQQ1bnt"
      },
      "outputs": [],
      "source": [
        "# Query\n",
        "query = \"How to improve energy levels and maintain balance?\""
      ]
    },
    {
      "cell_type": "code",
      "execution_count": null,
      "metadata": {
        "id": "V2SlmAoi1gOP"
      },
      "outputs": [],
      "source": [
        "# Retrieve results\n",
        "similarity_results = similarity_retriever.invoke(query)\n",
        "multiquery_results= multiquery_retriever.invoke(query)"
      ]
    },
    {
      "cell_type": "code",
      "execution_count": null,
      "metadata": {
        "colab": {
          "base_uri": "https://localhost:8080/"
        },
        "id": "yQUtMLupwfe2",
        "outputId": "743431a3-5b0e-4f69-8af3-dec66a49f7ce"
      },
      "outputs": [
        {
          "name": "stdout",
          "output_type": "stream",
          "text": [
            "\n",
            "--- Result 1 ---\n",
            "Drinking sufficient water throughout the day helps maintain metabolism and energy.\n",
            "\n",
            "--- Result 2 ---\n",
            "Mindfulness and controlled breathing lower cortisol and improve mental clarity.\n",
            "\n",
            "--- Result 3 ---\n",
            "Regular walking boosts heart health and can reduce symptoms of depression.\n",
            "\n",
            "--- Result 4 ---\n",
            "Deep sleep is crucial for cellular repair and emotional regulation.\n",
            "\n",
            "--- Result 5 ---\n",
            "The solar energy system in modern homes helps balance electricity demand.\n",
            "******************************************************************************************************************************************************\n",
            "\n",
            "--- Result 1 ---\n",
            "Drinking sufficient water throughout the day helps maintain metabolism and energy.\n",
            "\n",
            "--- Result 2 ---\n",
            "Mindfulness and controlled breathing lower cortisol and improve mental clarity.\n",
            "\n",
            "--- Result 3 ---\n",
            "Regular walking boosts heart health and can reduce symptoms of depression.\n",
            "\n",
            "--- Result 4 ---\n",
            "Consuming leafy greens and fruits helps detox the body and improve longevity.\n",
            "\n",
            "--- Result 5 ---\n",
            "Deep sleep is crucial for cellular repair and emotional regulation.\n"
          ]
        }
      ],
      "source": [
        "for i, doc in enumerate(similarity_results):\n",
        "    print(f\"\\n--- Result {i+1} ---\")\n",
        "    print(doc.page_content)\n",
        "\n",
        "print(\"*\"*150)\n",
        "\n",
        "for i, doc in enumerate(multiquery_results):\n",
        "    print(f\"\\n--- Result {i+1} ---\")\n",
        "    print(doc.page_content)"
      ]
    },
    {
      "cell_type": "markdown",
      "metadata": {
        "id": "6AP7o9-VJ0Zq"
      },
      "source": [
        "## ContextualCompressionRetriever"
      ]
    },
    {
      "cell_type": "code",
      "execution_count": null,
      "metadata": {
        "id": "RVl6n3HH6gp_"
      },
      "outputs": [],
      "source": [
        "from langchain_community.vectorstores import FAISS\n",
        "from langchain_openai import OpenAIEmbeddings, ChatOpenAI\n",
        "from langchain.retrievers.contextual_compression import ContextualCompressionRetriever\n",
        "from langchain.retrievers.document_compressors import LLMChainExtractor\n",
        "from langchain_core.documents import Document"
      ]
    },
    {
      "cell_type": "code",
      "execution_count": null,
      "metadata": {
        "id": "RmLD6aZB6g1k"
      },
      "outputs": [],
      "source": [
        "# Recreate the document objects from the previous data\n",
        "docs = [\n",
        "    Document(page_content=(\n",
        "        \"\"\"The Grand Canyon is one of the most visited natural wonders in the world.\n",
        "        Photosynthesis is the process by which green plants convert sunlight into energy.\n",
        "        Millions of tourists travel to see it every year. The rocks date back millions of years.\"\"\"\n",
        "    ), metadata={\"source\": \"Doc1\"}),\n",
        "\n",
        "    Document(page_content=(\n",
        "        \"\"\"In medieval Europe, castles were built primarily for defense.\n",
        "        The chlorophyll in plant cells captures sunlight during photosynthesis.\n",
        "        Knights wore armor made of metal. Siege weapons were often used to breach castle walls.\"\"\"\n",
        "    ), metadata={\"source\": \"Doc2\"}),\n",
        "\n",
        "    Document(page_content=(\n",
        "        \"\"\"Basketball was invented by Dr. James Naismith in the late 19th century.\n",
        "        It was originally played with a soccer ball and peach baskets. NBA is now a global league.\"\"\"\n",
        "    ), metadata={\"source\": \"Doc3\"}),\n",
        "\n",
        "    Document(page_content=(\n",
        "        \"\"\"The history of cinema began in the late 1800s. Silent films were the earliest form.\n",
        "        Thomas Edison was among the pioneers. Photosynthesis does not occur in animal cells.\n",
        "        Modern filmmaking involves complex CGI and sound design.\"\"\"\n",
        "    ), metadata={\"source\": \"Doc4\"})\n",
        "]"
      ]
    },
    {
      "cell_type": "code",
      "execution_count": null,
      "metadata": {
        "id": "tgMNKHnv6hD8"
      },
      "outputs": [],
      "source": [
        "# Create a FAISS vector store from the documents\n",
        "embedding_model = OpenAIEmbeddings()\n",
        "vectorstore = FAISS.from_documents(docs, embedding_model)"
      ]
    },
    {
      "cell_type": "code",
      "execution_count": null,
      "metadata": {
        "id": "vlAqc8lQrz_B"
      },
      "outputs": [],
      "source": [
        "base_retriever = vectorstore.as_retriever(search_kwargs={\"k\": 5})"
      ]
    },
    {
      "cell_type": "code",
      "execution_count": null,
      "metadata": {
        "id": "nHjUdgiS6hRK"
      },
      "outputs": [],
      "source": [
        "# Set up the compressor using an LLM\n",
        "llm = ChatOpenAI(model=\"gpt-3.5-turbo\")\n",
        "compressor = LLMChainExtractor.from_llm(llm)"
      ]
    },
    {
      "cell_type": "code",
      "execution_count": null,
      "metadata": {
        "id": "um5gKEMT6hdB"
      },
      "outputs": [],
      "source": [
        "# Create the contextual compression retriever\n",
        "compression_retriever = ContextualCompressionRetriever(\n",
        "    base_retriever=base_retriever,\n",
        "    base_compressor=compressor\n",
        ")"
      ]
    },
    {
      "cell_type": "code",
      "execution_count": null,
      "metadata": {
        "id": "lmHGenTo6hp6"
      },
      "outputs": [],
      "source": [
        "# Query the retriever\n",
        "query = \"What is photosynthesis?\"\n",
        "compressed_results = compression_retriever.invoke(query)"
      ]
    },
    {
      "cell_type": "code",
      "execution_count": null,
      "metadata": {
        "colab": {
          "base_uri": "https://localhost:8080/"
        },
        "id": "SyIUYw035g0c",
        "outputId": "99a654d5-9239-4912-fd3e-4130c00b115a"
      },
      "outputs": [
        {
          "name": "stdout",
          "output_type": "stream",
          "text": [
            "\n",
            "--- Result 1 ---\n",
            "Photosynthesis is the process by which green plants convert sunlight into energy.\n",
            "\n",
            "--- Result 2 ---\n",
            "The chlorophyll in plant cells captures sunlight during photosynthesis.\n"
          ]
        }
      ],
      "source": [
        "for i, doc in enumerate(compressed_results):\n",
        "    print(f\"\\n--- Result {i+1} ---\")\n",
        "    print(doc.page_content)\n"
      ]
    }
  ],
  "metadata": {
    "colab": {
      "provenance": []
    },
    "kernelspec": {
      "display_name": "base",
      "language": "python",
      "name": "python3"
    },
    "language_info": {
      "codemirror_mode": {
        "name": "ipython",
        "version": 3
      },
      "file_extension": ".py",
      "mimetype": "text/x-python",
      "name": "python",
      "nbconvert_exporter": "python",
      "pygments_lexer": "ipython3",
      "version": "3.12.7"
    }
  },
  "nbformat": 4,
  "nbformat_minor": 0
}
